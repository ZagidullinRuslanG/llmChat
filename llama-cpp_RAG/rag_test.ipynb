{
 "cells": [
  {
   "cell_type": "code",
   "execution_count": 1,
   "metadata": {},
   "outputs": [
    {
     "data": {
      "text/plain": [
       "True"
      ]
     },
     "execution_count": 1,
     "metadata": {},
     "output_type": "execute_result"
    }
   ],
   "source": [
    "from langchain_core.runnables import  RunnablePassthrough\n",
    "from langchain_core.prompts import ChatPromptTemplate\n",
    "from langchain_core.pydantic_v1 import BaseModel, Field\n",
    "from langchain_core.output_parsers import StrOutputParser\n",
    "import os\n",
    "from langchain_community.graphs import Neo4jGraph\n",
    "from langchain.text_splitter import RecursiveCharacterTextSplitter\n",
    "from langchain_experimental.graph_transformers import LLMGraphTransformer\n",
    "from neo4j import GraphDatabase\n",
    "from yfiles_jupyter_graphs import GraphWidget\n",
    "from langchain_community.vectorstores import Neo4jVector\n",
    "from langchain_community.document_loaders import TextLoader\n",
    "from langchain_community.vectorstores.neo4j_vector import remove_lucene_chars\n",
    "from langchain_community.llms import LlamaCpp\n",
    "from langchain_core.callbacks import CallbackManager, StreamingStdOutCallbackHandler\n",
    "from langchain_community.chat_models import ChatOllama\n",
    "\n",
    "from dotenv import load_dotenv\n",
    "\n",
    "load_dotenv()\n"
   ]
  },
  {
   "cell_type": "code",
   "execution_count": 2,
   "metadata": {},
   "outputs": [],
   "source": [
    "login = 'neo4j'\n",
    "# password = 'XLR48xNsaLxKwVq'\n",
    "password = 'your_password'\n",
    "\n",
    "os.environ[\"NEO4J_URI\"] = \"bolt://localhost:7687\"\n",
    "os.environ[\"NEO4J_USERNAME\"] = login\n",
    "os.environ[\"NEO4J_PASSWORD\"] = password\n",
    "\n",
    "\n",
    "graph = Neo4jGraph()"
   ]
  },
  {
   "cell_type": "code",
   "execution_count": 3,
   "metadata": {},
   "outputs": [],
   "source": [
    "model_path = r\"C:\\Work\\Gazprom\\LLM\\llmChat\\data\\weights\\starling-lm-7b-alpha.Q5_K_M.gguf\"\n",
    "\n",
    "rag_template: str = (\n",
    "            'Отвечай на поставленные вопросы.\\n'\n",
    "            '\\n'\n",
    "            '{question}'\n",
    "        )\n",
    "\n",
    "rag_prompt = ChatPromptTemplate.from_template(rag_template)\n",
    "\n",
    "callback_manager = CallbackManager([StreamingStdOutCallbackHandler()])\n"
   ]
  },
  {
   "cell_type": "code",
   "execution_count": null,
   "metadata": {},
   "outputs": [],
   "source": [
    "\n",
    "# model = LlamaCpp(\n",
    "#     model_path=model_path, \n",
    "#     temperature=0.0,\n",
    "#     max_new_tokens=10000,\n",
    "#     context_window=16379-1000,\n",
    "#     generate_kwargs={},\n",
    "#     n_ctx=8192,\n",
    "#     n_gpu_layers=-1, \n",
    "#     # n_threads=6, \n",
    "#     n_batch=512, \n",
    "#     verbose=True,\n",
    "#     callback_manager=callback_manager\n",
    "# )\n",
    "\n",
    "model = ChatOllama(\n",
    "    model=\"llama3.1\",\n",
    "    callback_manager = callback_manager, \n",
    "    temperature=0.0, \n",
    "    # num_predict = 128\n",
    ")"
   ]
  },
  {
   "cell_type": "code",
   "execution_count": 17,
   "metadata": {},
   "outputs": [],
   "source": [
    "loader = TextLoader(file_path=r\"C:\\Work\\Gazprom\\LLM\\neo4j\\dummytext.txt\")\n",
    "docs = loader.load()\n",
    "\n",
    "text_splitter = RecursiveCharacterTextSplitter(chunk_size=1024, chunk_overlap=100)\n",
    "documents = text_splitter.split_documents(documents=docs)"
   ]
  },
  {
   "cell_type": "code",
   "execution_count": 18,
   "metadata": {},
   "outputs": [],
   "source": [
    "llm_transformer = LLMGraphTransformer(llm=model)"
   ]
  },
  {
   "cell_type": "code",
   "execution_count": 19,
   "metadata": {},
   "outputs": [
    {
     "name": "stderr",
     "output_type": "stream",
     "text": [
      "  0%|          | 0/17 [00:00<?, ?it/s]"
     ]
    },
    {
     "name": "stdout",
     "output_type": "stream",
     "text": [
      "[{\"text\": \"The Story of AmicoвЂ™s Family: A Legacy of Love and Tradition\", \"head\": \"Caruso family\", \"head_type\": \"Family\", \"relation\": \"IS_PART_OF\", \"tail\": \"Sicily\", \"tail_type\": \"Region\"}, {\"text\": \"The Carusos were not mere inhabitants of the land; they were the keepers of a culinary heritage that spanned generations.\", \"head\": \"Caruso family\", \"head_type\": \"Family\", \"relation\": \"HAS_HERITAGE\", \"tail\": \"culinary heritage\", \"tail_type\": \"Heritage\"}, {\"text\": \"Each family member contributed their unique flair, crafting a narrative of flavors that reflected their diverse experiences and deep-seated love for food.\", \"head\": \"Caruso family\", \"head_type\": \"Family\", \"relation\": \"HAS_MEMBER\", \"tail\": \"family members\", \"tail_type\": \"Group\"}, {\"text\": \"Giovanni Caruso and Maria: The Founding Generation\", \"head\": \"Giovanni Caruso\", \"head_type\": \"Person\", \"relation\": \"IS_PART_OF\", \"tail\": \"Caruso family\", \"tail_type\": \"Family\"}, {\"text\": \"Giovanni Caruso and Maria: The Founding Generation\", \"head\": \"Maria\", \"head_type\": \"Person\", \"relation\": \"IS_PART_OF\", \"tail\": \"Caruso family\", \"tail_type\": \"Family\"}]"
     ]
    },
    {
     "name": "stderr",
     "output_type": "stream",
     "text": [
      "  6%|▌         | 1/17 [00:08<02:11,  8.21s/it]"
     ]
    },
    {
     "name": "stdout",
     "output_type": "stream",
     "text": [
      "[{\"text\": \"Giovanni Caruso\", \"head\": \"Giovanni Caruso\", \"head_type\": \"Person\", \"relation\": \"PARENT_OF\", \"tail\": \"Maria\", \"tail_type\": \"Person\"}, {\"text\": \"Giovanni Caruso\", \"head\": \"Giovanni Caruso\", \"head_type\": \"Person\", \"relation\": \"FARMER_IN\", \"tail\": \"Santa Caterina\", \"tail_type\": \"Location\"}, {\"text\": \"Giovanni Caruso\", \"head\": \"Giovanni Caruso\", \"head_type\": \"Person\", \"relation\": \"PRODUCED\", \"tail\": \"olives and grapes\", \"tail_type\": \"Product\"}, {\"text\": \"Maria\", \"head\": \"Maria\", \"head_type\": \"Person\", \"relation\": \"WIFE_OF\", \"tail\": \"Giovanni Caruso\", \"tail_type\": \"Person\"}, {\"text\": \"Maria\", \"head\": \"Maria\", \"head_type\": \"Person\", \"relation\": \"COOK_IN\", \"tail\": \"the kitchen\", \"tail_type\": \"Location\"}, {\"text\": \"Antonio Caruso\", \"head\": \"Antonio Caruso\", \"head_type\": \"Person\", \"relation\": \"STORYTELLER_OF\", \"tail\": \"Giovanni Caruso and Maria\", \"tail_type\": \"Person\"}]"
     ]
    },
    {
     "name": "stderr",
     "output_type": "stream",
     "text": [
      " 12%|█▏        | 2/17 [00:15<01:59,  7.93s/it]"
     ]
    },
    {
     "name": "stdout",
     "output_type": "stream",
     "text": [
      "[{\"text\": \"Antonio Caruso: The Storyteller and Innovator\", \"head\": \"Antonio Caruso\", \"head_type\": \"Person\", \"relation\": \"IS_CHILD_OF\", \"tail\": \"Giovanni and Maria\", \"tail_type\": \"Family\"}, {\"text\": \"Antonio Caruso: The Storyteller and Innovator\", \"head\": \"Antonio Caruso\", \"head_type\": \"Person\", \"relation\": \"INHERITS_PASSION_FROM\", \"tail\": \"Giovanni and Maria\", \"tail_type\": \"Family\"}, {\"text\": \"Antonio Caruso: The Storyteller and Innovator\", \"head\": \"Antonio Caruso\", \"head_type\": \"Person\", \"relation\": \"IS_CHARISMATIC_STORYTELLER\", \"tail\": \"null\", \"tail_type\": \"null\"}, {\"text\": \"Antonio Caruso: The Storyteller and Innovator\", \"head\": \"Antonio Caruso\", \"head_type\": \"Person\", \"relation\": \"HAS_CULINARY_PROWESS\", \"tail\": \"null\", \"tail_type\": \"null\"}, {\"text\": \"Antonio Caruso: The Storyteller and Innovator\", \"head\": \"Antonio Caruso\", \"head_type\": \"Person\", \"relation\": \"IS_GO_TO_CHEF\", \"tail\": \"Village\", \"tail_type\": \"Location\"}, {\"text\": \"Antonio Caruso: The Storyteller and Innovator\", \"head\": \"Antonio Caruso\", \"head_type\": \"Person\", \"relation\": \"CREATES_FUSION_DISHES\", \"tail\": \"Sicilian and Tuscan flavors\", \"tail_type\": \"Cuisine\"}, {\"text\": \"Pietro and Sofia: The Guardians of Tradition\", \"head\": \"Pietro and Sofia\", \"head_type\": \"Family\", \"relation\": \"IS_PARENT_OF\", \"tail\": \"Antonio Caruso\", \"tail_type\": \"Person\"}]"
     ]
    },
    {
     "name": "stderr",
     "output_type": "stream",
     "text": [
      " 18%|█▊        | 3/17 [00:26<02:08,  9.19s/it]"
     ]
    },
    {
     "name": "stdout",
     "output_type": "stream",
     "text": [
      "[{\"head\": \"Pietro\", \"head_type\": \"Person\", \"relation\": \"RUNS_WITH\", \"tail\": \"Sofia\", \"tail_type\": \"Person\"}, {\"head\": \"Pietro\", \"head_type\": \"Person\", \"relation\": \"IS_SON_OF\", \"tail\": \"Antonio\", \"tail_type\": \"Person\"}, {\"head\": \"Pietro\", \"head_type\": \"Person\", \"relation\": \"WORKS_AS\", \"tail\": \"fisherman\", \"tail_type\": \"Occupation\"}, {\"head\": \"Sofia\", \"head_type\": \"Person\", \"relation\": \"IS_WIFE_OF\", \"tail\": \"Pietro\", \"tail_type\": \"Person\"}, {\"head\": \"Sofia\", \"head_type\": \"Person\", \"relation\": \"WORKS_AS\", \"tail\": \"baker\", \"tail_type\": \"Occupation\"}, {\"head\": \"Amico\", \"head_type\": \"Person\", \"relation\": \"IS_CHILD_OF\", \"tail\": \"Pietro and Sofia\", \"tail_type\": \"Family\"}, {\"head\": \"Nonna Lucia\", \"head_type\": \"Person\", \"relation\": \"IS_MENTOR_OF\", \"tail\": \"Pietro and Sofia\", \"tail_type\": \"Family\"}]"
     ]
    },
    {
     "name": "stderr",
     "output_type": "stream",
     "text": [
      " 24%|██▎       | 4/17 [00:34<01:52,  8.64s/it]"
     ]
    },
    {
     "name": "stdout",
     "output_type": "stream",
     "text": [
      "[{\"head\": \"Nonna Lucia\", \"head_type\": \"Person\", \"relation\": \"IS_MOTHER_OF\", \"tail\": \"Amico\", \"tail_type\": \"Person\"}, {\"head\": \"Nonna Lucia\", \"head_type\": \"Person\", \"relation\": \"IS_GRANDMOTHER_OF\", \"tail\": \"Antonio\", \"tail_type\": \"Person\"}, {\"head\": \"Nonna Lucia\", \"head_type\": \"Person\", \"relation\": \"IS_MENTOR_OF\", \"tail\": \"Amico\", \"tail_type\": \"Person\"}, {\"head\": \"Nonna Lucia\", \"head_type\": \"Person\", \"relation\": \"IS_CUSTODIAN_OF\", \"tail\": \"Caruso family recipes\", \"tail_type\": \"Recipes\"}, {\"head\": \"Nonna Lucia\", \"head_type\": \"Person\", \"relation\": \"TEACHES\", \"tail\": \"Amico\", \"tail_type\": \"Person\"}, {\"head\": \"Nonna Lucia\", \"head_type\": \"Person\", \"relation\": \"IS_PILLAR_OF_STRENGTH_FOR\", \"tail\": \"Caruso family\", \"tail_type\": \"Family\"}]"
     ]
    },
    {
     "name": "stderr",
     "output_type": "stream",
     "text": [
      " 29%|██▉       | 5/17 [00:41<01:36,  8.03s/it]"
     ]
    },
    {
     "name": "stdout",
     "output_type": "stream",
     "text": [
      "[{\"text\": \"2. Other Restaurants Owned by Amico's Family: A Culinary Empire\", \"head\": \"Amico's Family\", \"head_type\": \"Family\", \"relation\": \"OWNS\", \"tail\": \"Other Restaurants\", \"tail_type\": \"Restaurants\"}, {\"text\": \"A Culinary Empire\", \"head\": \"Culinary Empire\", \"head_type\": \"Concept\", \"relation\": \"IS_PART_OF\", \"tail\": \"Amico's Family\", \"tail_type\": \"Family\"}, {\"text\": \"Each member, having honed their skills under the tutelage of another, ventured into different regions, opening restaurants that showcased their unique interpretations of Italian cuisine.\", \"head\": \"Antonio Caruso\", \"head_type\": \"Person\", \"relation\": \"IS_MEMBER_OF\", \"tail\": \"Amico's Family\", \"tail_type\": \"Family\"}, {\"text\": \"Each member, having honed their skills under the tutelage of another, ventured into different regions, opening restaurants that showcased their unique interpretations of Italian cuisine.\", \"head\": \"Antonio Caruso\", \"head_type\": \"Person\", \"relation\": \"OWNS\", \"tail\": \"La Dolce Vita - Rome\", \"tail_type\": \"Restaurant\"}, {\"text\": \"These establishments, while diverse in their offerings, were united by a common thread: a deep respect for tradition and a commitment to excellence.\", \"head\": \"Other Restaurants\", \"head_type\": \"Restaurants\", \"relation\": \"SHARES_COMMON_THREAD\", \"tail\": \"Amico's Family\", \"tail_type\": \"Family\"}, {\"text\": \"1. La Dolce Vita - Rome: Owned by Antonio Caruso\", \"head\": \"La Dolce Vita - Rome\", \"head_type\": \"Restaurant\", \"relation\": \"IS_PART_OF\", \"tail\": \"Antonio Caruso\", \"tail_type\": \"Person\"}]"
     ]
    },
    {
     "name": "stderr",
     "output_type": "stream",
     "text": [
      " 35%|███▌      | 6/17 [00:51<01:37,  8.86s/it]"
     ]
    },
    {
     "name": "stdout",
     "output_type": "stream",
     "text": [
      "[{\"text\": \"1. La Dolce Vita - Rome: Owned by Antonio Caruso\", \"head\": \"Antonio Caruso\", \"head_type\": \"Person\", \"relation\": \"OWNS\", \"tail\": \"La Dolce Vita\", \"tail_type\": \"Restaurant\"}, {\"text\": \"1. La Dolce Vita - Rome: Owned by Antonio Caruso\", \"head\": \"Antonio Caruso\", \"head_type\": \"Person\", \"relation\": \"WORKS_AT\", \"tail\": \"La Dolce Vita\", \"tail_type\": \"Restaurant\"}, {\"text\": \"1. La Dolce Vita - Rome: Owned by Antonio Caruso\", \"head\": \"Antonio Caruso\", \"head_type\": \"Person\", \"relation\": \"CREATED\", \"tail\": \"Cacio e Pepe\", \"tail_type\": \"Dish\"}, {\"text\": \"1. La Dolce Vita - Rome: Owned by Antonio Caruso\", \"head\": \"Antonio Caruso\", \"head_type\": \"Person\", \"relation\": \"CREATED\", \"tail\": \"Carbonara\", \"tail_type\": \"Dish\"}, {\"text\": \"1. La Dolce Vita - Rome: Owned by Antonio Caruso\", \"head\": \"Antonio Caruso\", \"head_type\": \"Person\", \"relation\": \"CREATED\", \"tail\": \"Truffle Risotto with Pecorino Romano\", \"tail_type\": \"Dish\"}, {\"text\": \"1. La Dolce Vita - Rome: Owned by Antonio Caruso\", \"head\": \"Antonio Caruso\", \"head_type\": \"Person\", \"relation\": \"INHERITED_SKILL\", \"tail\": \"Giovanni\", \"tail_type\": \"Person\"}, {\"text\": \"2. Il Mare Nostrum - Amalfi Coast: Owned by Pietro Caruso\", \"head\": \"Pietro Caruso\", \"head_type\": \"Person\", \"relation\": \"OWNS\", \"tail\": \"Il Mare Nostrum\", \"tail_type\": \"Restaurant\"}]"
     ]
    },
    {
     "name": "stderr",
     "output_type": "stream",
     "text": [
      " 41%|████      | 7/17 [01:02<01:35,  9.59s/it]"
     ]
    },
    {
     "name": "stdout",
     "output_type": "stream",
     "text": [
      "[{\"head\": \"Pietro Caruso\", \"head_type\": \"Person\", \"relation\": \"OWNS\", \"tail\": \"Il Mare Nostrum\", \"tail_type\": \"Restaurant\"}, {\"head\": \"Pietro Caruso\", \"head_type\": \"Person\", \"relation\": \"HAS_FATHER\", \"tail\": \"his father\", \"tail_type\": \"Person\"}, {\"head\": \"Pietro Caruso\", \"head_type\": \"Person\", \"relation\": \"MARRIED_TO\", \"tail\": \"Sofia Caruso\", \"tail_type\": \"Person\"}, {\"head\": \"Il Mare Nostrum\", \"head_type\": \"Restaurant\", \"relation\": \"LOCATED_IN\", \"tail\": \"Amalfi Coast\", \"tail_type\": \"Location\"}, {\"head\": \"Pietro Caruso\", \"head_type\": \"Person\", \"relation\": \"EXPERTISE_IN\", \"tail\": \"fishing\", \"tail_type\": \"Skill\"}, {\"head\": \"Sofia Caruso\", \"head_type\": \"Person\", \"relation\": \"SKILLED_IN\", \"tail\": \"baking\", \"tail_type\": \"Skill\"}, {\"head\": \"Il Mare Nostrum\", \"head_type\": \"Restaurant\", \"relation\": \"SERVES\", \"tail\": \"Italian coastal cuisine\", \"tail_type\": \"Cuisine\"}, {\"head\": \"Pietro Caruso\", \"head_type\": \"Person\", \"relation\": \"HAS_WIFE\", \"tail\": \"Sofia Caruso\", \"tail_type\": \"Person\"}]"
     ]
    },
    {
     "name": "stderr",
     "output_type": "stream",
     "text": [
      " 47%|████▋     | 8/17 [01:12<01:25,  9.48s/it]"
     ]
    },
    {
     "name": "stdout",
     "output_type": "stream",
     "text": [
      "[{\"text\": \"3. La Terra di Siena - Tuscany: Owned by Sofia Caruso\", \"head\": \"Sofia Caruso\", \"head_type\": \"Person\", \"relation\": \"OWNS\", \"tail\": \"La Terra di Siena\", \"tail_type\": \"Restaurant\"}, {\"text\": \"3. La Terra di Siena - Tuscany: Owned by Sofia Caruso\", \"head\": \"Sofia Caruso\", \"head_type\": \"Person\", \"relation\": \"WORKS_AT\", \"tail\": \"La Terra di Siena\", \"tail_type\": \"Restaurant\"}, {\"text\": \"3. La Terra di Siena - Tuscany: Owned by Sofia Caruso\", \"head\": \"Sofia Caruso\", \"head_type\": \"Person\", \"relation\": \"CREATES\", \"tail\": \"Tiramisu and Panna Cotta\", \"tail_type\": \"Dessert\"}, {\"text\": \"3. La Terra di Siena - Tuscany: Owned by Sofia Caruso\", \"head\": \"Sofia Caruso\", \"head_type\": \"Person\", \"relation\": \"USES\", \"tail\": \"locally sourced ingredients\", \"tail_type\": \"Ingredient\"}, {\"text\": \"4. Amico's - New York City: Owned by Amico Caruso\", \"head\": \"Amico Caruso\", \"head_type\": \"Person\", \"relation\": \"OWNS\", \"tail\": \"Amico's\", \"tail_type\": \"Restaurant\"}, {\"text\": \"4. Amico's - New York City: Owned by Amico Caruso\", \"head\": \"Amico Caruso\", \"head_type\": \"Person\", \"relation\": \"WORKS_AT\", \"tail\": \"Amico's\", \"tail_type\": \"Restaurant\"}]"
     ]
    },
    {
     "name": "stderr",
     "output_type": "stream",
     "text": [
      " 53%|█████▎    | 9/17 [01:21<01:15,  9.47s/it]"
     ]
    },
    {
     "name": "stdout",
     "output_type": "stream",
     "text": [
      "[{\"text\": \"Amico's - New York City\", \"head\": \"Amico\", \"head_type\": \"Person\", \"relation\": \"OWNS\", \"tail\": \"Amico's\", \"tail_type\": \"Restaurant\"}, {\"text\": \"Amico's - New York City\", \"head\": \"Amico\", \"head_type\": \"Person\", \"relation\": \"INSPIRED_BY\", \"tail\": \"his family's culinary legacy\", \"tail_type\": \"Legacy\"}, {\"text\": \"Amico's - New York City\", \"head\": \"Amico\", \"head_type\": \"Person\", \"relation\": \"OPENED\", \"tail\": \"Amico's\", \"tail_type\": \"Restaurant\"}, {\"text\": \"Amico's - New York City\", \"head\": \"Amico's\", \"head_type\": \"Restaurant\", \"relation\": \"SERVES\", \"tail\": \"Porcini Mushroom Risotto\", \"tail_type\": \"Dish\"}, {\"text\": \"Amico's - New York City\", \"head\": \"Amico's\", \"head_type\": \"Restaurant\", \"relation\": \"SERVES\", \"tail\": \"Burrata with Heirloom Tomatoes\", \"tail_type\": \"Dish\"}, {\"text\": \"Amico's - New York City\", \"head\": \"Amico\", \"head_type\": \"Person\", \"relation\": \"PASSED_ON_CUISINE\", \"tail\": \"Sicilian cuisine\", \"tail_type\": \"Cuisine\"}, {\"text\": \"Bella Vita - Los Angeles\", \"head\": \"Lucia Caruso\", \"head_type\": \"Person\", \"relation\": \"OWNS\", \"tail\": \"Bella Vita\", \"tail_type\": \"Restaurant\"}]"
     ]
    },
    {
     "name": "stderr",
     "output_type": "stream",
     "text": [
      " 59%|█████▉    | 10/17 [01:30<01:04,  9.26s/it]"
     ]
    },
    {
     "name": "stdout",
     "output_type": "stream",
     "text": [
      "[{\"head\": \"Lucia Caruso\", \"head_type\": \"Person\", \"relation\": \"OWNS\", \"tail\": \"Bella Vita\", \"tail_type\": \"Restaurant\"}, {\"head\": \"Lucia Caruso\", \"head_type\": \"Person\", \"relation\": \"INHERITED_TALENT\", \"tail\": \"her grandmother\", \"tail_type\": \"Person\"}, {\"head\": \"Lucia Caruso\", \"head_type\": \"Person\", \"relation\": \"CREATED\", \"tail\": \"Bella Vita\", \"tail_type\": \"Restaurant\"}, {\"head\": \"Bella Vita\", \"head_type\": \"Restaurant\", \"relation\": \"LOCATED_IN\", \"tail\": \"Los Angeles\", \"tail_type\": \"City\"}, {\"head\": \"Bella Vita\", \"head_type\": \"Restaurant\", \"relation\": \"SERVES_MENU\", \"tail\": \"gluten-free pasta and organic salads\", \"tail_type\": \"Menu\"}, {\"head\": \"Bella Vita\", \"head_type\": \"Restaurant\", \"relation\": \"SERVES_MENU\", \"tail\": \"Lasagna and Cannoli\", \"tail_type\": \"Menu\"}, {\"head\": \"Bella Vita\", \"head_type\": \"Restaurant\", \"relation\": \"HAS_FEATURE\", \"tail\": \"rooftop bar\", \"tail_type\": \"Feature\"}, {\"head\": \"Bella Vita\", \"head_type\": \"Restaurant\", \"relation\": \"LOCATED_IN\", \"tail\": \"Los Angeles\", \"tail_type\": \"City\"}]"
     ]
    },
    {
     "name": "stderr",
     "output_type": "stream",
     "text": [
      " 65%|██████▍   | 11/17 [01:38<00:53,  8.85s/it]"
     ]
    },
    {
     "name": "stdout",
     "output_type": "stream",
     "text": [
      "[{\"text\": \"The Caruso family\", \"head\": \"Caruso family\", \"head_type\": \"Family\", \"relation\": \"INVOLVED_IN\", \"tail\": \"Amico's Community Involvement and Social Causes\", \"tail_type\": \"Social Cause\"}, {\"text\": \"The Caruso family\", \"head\": \"Caruso family\", \"head_type\": \"Family\", \"relation\": \"RUNS\", \"tail\": \"Restaurants\", \"tail_type\": \"Business\"}, {\"text\": \"Antonio hosted workshops in Rome\", \"head\": \"Antonio Caruso\", \"head_type\": \"Person\", \"relation\": \"HOSTED_WORKSHOP_IN\", \"tail\": \"Rome\", \"tail_type\": \"Location\"}, {\"text\": \"Pietro and Sofia offered classes in seafood preparation and baking\", \"head\": \"Pietro and Sofia Caruso\", \"head_type\": \"People\", \"relation\": \"OFFERED_CLASSES_IN\", \"tail\": \"Seafood preparation and baking\", \"tail_type\": \"Topic\"}, {\"text\": \"Lucia focused on sustainable cooking practices\", \"head\": \"Lucia Caruso\", \"head_type\": \"Person\", \"relation\": \"FOCUSED_ON\", \"tail\": \"Sustainable cooking practices\", \"tail_type\": \"Topic\"}, {\"text\": \"The family's mentorship programs offered guidance and support to young chefs from diverse backgrounds\", \"head\": \"Caruso family\", \"head_type\": \"Family\", \"relation\": \"OFFERED_MENTORSHIP_PROGRAMS_TO\", \"tail\": \"Young chefs\", \"tail_type\": \"Group\"}, {\"text\": \"The Caruso family played a role in nurturing the next generation of chefs\", \"head\": \"Caruso family\", \"head_type\": \"Family\", \"relation\": \"PLAYED_ROLE_IN\", \"tail\": \"Next generation of chefs\", \"tail_type\": \"Group\"}]"
     ]
    },
    {
     "name": "stderr",
     "output_type": "stream",
     "text": [
      " 71%|███████   | 12/17 [01:47<00:45,  9.03s/it]"
     ]
    },
    {
     "name": "stdout",
     "output_type": "stream",
     "text": [
      "[{\"text\": \"The Carusos were strong advocates for sustainable and ethical food practices.\", \"head\": \"Carusos\", \"head_type\": \"Family\", \"relation\": \"ADVOCATES_FOR\", \"tail\": \"sustainable and ethical food practices\", \"tail_type\": \"Concept\"}, {\"text\": \"Amico spearheaded the \\\"Farm-to-Table\\\" initiative, collaborating with local farmers and producers across all their restaurants.\", \"head\": \"Amico\", \"head_type\": \"Person\", \"relation\": \"SPEARHEADED\", \"tail\": \"Farm-to-Table initiative\", \"tail_type\": \"Initiative\"}, {\"text\": \"This initiative ensured that their establishments used only the freshest, locally sourced ingredients, promoting environmental sustainability and supporting the local economy.\", \"head\": \"Farm-to-Table initiative\", \"head_type\": \"Initiative\", \"relation\": \"ENSURES_USE_OF\", \"tail\": \"locally sourced ingredients\", \"tail_type\": \"Concept\"}, {\"text\": \"The family also worked together to raise awareness about the benefits of consuming seasonal and organic produce.\", \"head\": \"Carusos\", \"head_type\": \"Family\", \"relation\": \"RAISED_AWARENESS_ABOUT\", \"tail\": \"seasonal and organic produce\", \"tail_type\": \"Concept\"}]"
     ]
    },
    {
     "name": "stderr",
     "output_type": "stream",
     "text": [
      " 76%|███████▋  | 13/17 [01:54<00:33,  8.42s/it]"
     ]
    },
    {
     "name": "stdout",
     "output_type": "stream",
     "text": [
      "[{\"text\": \"The Carusos launched the \\\"Food for All\\\" initiative\", \"head\": \"Carusos\", \"head_type\": \"Person/Company\", \"relation\": \"LAUNCHED\", \"tail\": \"Food for All\", \"tail_type\": \"Initiative\"}, {\"text\": \"They set up community kitchens in each city where they had restaurants\", \"head\": \"Carusos\", \"head_type\": \"Person/Company\", \"relation\": \"SET_UP\", \"tail\": \"community kitchens\", \"tail_type\": \"Facility\"}, {\"text\": \"These kitchens provided free meals to the homeless and low-income families\", \"head\": \"community kitchens\", \"head_type\": \"Facility\", \"relation\": \"PROVIDE_SERVICE_TO\", \"tail\": \"homeless and low-income families\", \"tail_type\": \"Group\"}, {\"text\": \"They organized food drives, collecting donations from patrons and local businesses\", \"head\": \"Carusos\", \"head_type\": \"Person/Company\", \"relation\": \"ORGANIZED\", \"tail\": \"food drives\", \"tail_type\": \"Event\"}, {\"text\": \"The initiative was a family effort\", \"head\": \"Food for All\", \"head_type\": \"Initiative\", \"relation\": \"INVOLVED\", \"tail\": \"Carusos family\", \"tail_type\": \"Group\"}]"
     ]
    },
    {
     "name": "stderr",
     "output_type": "stream",
     "text": [
      " 82%|████████▏ | 14/17 [02:02<00:24,  8.07s/it]"
     ]
    },
    {
     "name": "stdout",
     "output_type": "stream",
     "text": [
      "[{\"text\": \"The Carusos believed in celebrating diversity through food and culture.\", \"head\": \"Carusos\", \"head_type\": \"Person/Company\", \"relation\": \"HOSTS_FESTIVAL\", \"tail\": \"cultural and culinary festivals\", \"tail_type\": \"Event\"}, {\"text\": \"They organized annual cultural and culinary festivals at their respective restaurants, showcasing traditional Sicilian dishes alongside other international cuisines.\", \"head\": \"Carusos\", \"head_type\": \"Person/Company\", \"relation\": \"HOSTS_FESTIVAL\", \"tail\": \"cultural and culinary festivals\", \"tail_type\": \"Event\"}, {\"text\": \"These festivals featured live performances, cooking demonstrations, and artisan markets, creating a vibrant and inclusive atmosphere.\", \"head\": \"Carusos\", \"head_type\": \"Person/Company\", \"relation\": \"HOSTS_FESTIVAL\", \"tail\": \"cultural and culinary festivals\", \"tail_type\": \"Event\"}, {\"text\": \"The events were not only a celebration of food but also a platform for cultural exchange, bringing people from different backgrounds together.\", \"head\": \"Carusos\", \"head_type\": \"Person/Company\", \"relation\": \"FACILITATES_CULTURAL_EXCHANGE\", \"tail\": \"people from different backgrounds\", \"tail_type\": \"Group\"}, {\"text\": \"The events were not only a celebration of food but also a platform for cultural exchange, bringing people from different backgrounds together.\", \"head\": \"cultural and culinary festivals\", \"head_type\": \"Event\", \"relation\": \"FACILITATES_CULTURAL_EXCHANGE\", \"tail\": \"people from different backgrounds\", \"tail_type\": \"Group\"}, {\"text\": \"The events were not only a celebration of food but also a platform for cultural exchange, bringing people from different backgrounds together.\", \"head\": \"food\", \"head_type\": \"Concept\", \"relation\": \"CELEBRATED\", \"tail\": \"cultural and culinary festivals\", \"tail_type\": \"Event\"}]"
     ]
    },
    {
     "name": "stderr",
     "output_type": "stream",
     "text": [
      " 88%|████████▊ | 15/17 [02:11<00:17,  8.57s/it]"
     ]
    },
    {
     "name": "stdout",
     "output_type": "stream",
     "text": [
      "[{\"head\": \"Caruso family\", \"head_type\": \"Family\", \"relation\": \"SUPPORTS\", \"tail\": \"Local Artists\", \"tail_type\": \"Group\"}, {\"head\": \"Caruso family\", \"head_type\": \"Family\", \"relation\": \"SUPPORTS\", \"tail\": \"Artisans\", \"tail_type\": \"Group\"}, {\"head\": \"Amico\", \"head_type\": \"Person\", \"relation\": \"ADVOCATES_FOR\", \"tail\": \"Local Artists\", \"tail_type\": \"Group\"}, {\"head\": \"Caruso family\", \"head_type\": \"Family\", \"relation\": \"COLLABORATES_WITH\", \"tail\": \"Local Musicians\", \"tail_type\": \"Group\"}, {\"head\": \"Caruso family\", \"head_type\": \"Family\", \"relation\": \"COLLABORATES_WITH\", \"tail\": \"Performers\", \"tail_type\": \"Group\"}]"
     ]
    },
    {
     "name": "stderr",
     "output_type": "stream",
     "text": [
      " 94%|█████████▍| 16/17 [02:17<00:07,  7.68s/it]"
     ]
    },
    {
     "name": "stdout",
     "output_type": "stream",
     "text": [
      "[{\"head\": \"Caruso family\", \"head_type\": \"Family\", \"relation\": \"HAS_MEMBER\", \"tail\": \"Each family member\", \"tail_type\": \"Person\"},{\"head\": \"Santa Caterina\", \"head_type\": \"Village\", \"relation\": \"LOCATED_IN\", \"tail\": \"New York City\", \"tail_type\": \"City\"},{\"head\": \"Caruso family\", \"head_type\": \"Family\", \"relation\": \"HAS_MEMBER\", \"tail\": \"Each family member\", \"tail_type\": \"Person\"},{\"head\": \"Santa Caterina\", \"head_type\": \"Village\", \"relation\": \"LOCATED_IN\", \"tail\": \"New York City\", \"tail_type\": \"City\"},{\"head\": \"Caruso family\", \"head_type\": \"Family\", \"relation\": \"HAS_LEGACY\", \"tail\": \"Culinary empire\", \"tail_type\": \"Business\"},{\"head\": \"Each family member\", \"head_type\": \"Person\", \"relation\": \"CONTRIBUTES_TO\", \"tail\": \"Caruso family legacy\", \"tail_type\": \"Legacy\"},{\"head\": \"Caruso family\", \"head_type\": \"Family\", \"relation\": \"IS_INVOLVED_IN\", \"tail\": \"Social causes\", \"tail_type\": \"Cause\"}]"
     ]
    },
    {
     "name": "stderr",
     "output_type": "stream",
     "text": [
      "100%|██████████| 17/17 [02:24<00:00,  8.49s/it]\n"
     ]
    }
   ],
   "source": [
    "\"\"\"\n",
    "MATCH (n)\n",
    "DETACH DELETE n\n",
    "\"\"\"\n",
    "\n",
    "import tqdm\n",
    "\n",
    "def custom_convert_to_graph_documents(llm, documents, config = None):\n",
    "\n",
    "    output_list = []\n",
    "\n",
    "    N = len(documents)\n",
    "\n",
    "    for i in tqdm.tqdm(range(N)):\n",
    "        document = documents[i]\n",
    "        # print(document)\n",
    "        try:\n",
    "            current_response = llm.process_response(document, config)\n",
    "            output_list.append(current_response)\n",
    "        except Exception as e:\n",
    "            print(f'Error in doc: {document}\\nError log: {e}')\n",
    "\n",
    "\n",
    "    return output_list\n",
    "\n",
    "# graph_documents = llm_transformer.convert_to_graph_documents(documents)\n",
    "graph_documents = custom_convert_to_graph_documents(llm_transformer, documents)"
   ]
  },
  {
   "cell_type": "code",
   "execution_count": 8,
   "metadata": {},
   "outputs": [
    {
     "name": "stderr",
     "output_type": "stream",
     "text": [
      "Llama.generate: 963 prefix-match hit, remaining 153 prompt tokens to eval\n",
      "\n",
      "llama_print_timings:        load time =     213.14 ms\n",
      "llama_print_timings:      sample time =      48.74 ms /   256 runs   (    0.19 ms per token,  5252.47 tokens per second)\n",
      "llama_print_timings: prompt eval time =    1327.76 ms /   152 tokens (    8.74 ms per token,   114.48 tokens per second)\n",
      "llama_print_timings:        eval time =    5560.54 ms /   256 runs   (   21.72 ms per token,    46.04 tokens per second)\n",
      "llama_print_timings:       total time =    7091.54 ms /   408 tokens\n"
     ]
    },
    {
     "ename": "KeyError",
     "evalue": "'tail_type'",
     "output_type": "error",
     "traceback": [
      "\u001b[1;31m---------------------------------------------------------------------------\u001b[0m",
      "\u001b[1;31mKeyError\u001b[0m                                  Traceback (most recent call last)",
      "Cell \u001b[1;32mIn[8], line 10\u001b[0m\n\u001b[0;32m      3\u001b[0m text \u001b[38;5;241m=\u001b[39m \u001b[38;5;124m\"\"\"\u001b[39m\n\u001b[0;32m      4\u001b[0m \u001b[38;5;124mMarie Curie, born in 1867, was a Polish and naturalised-French physicist and chemist who conducted pioneering research on radioactivity.\u001b[39m\n\u001b[0;32m      5\u001b[0m \u001b[38;5;124mShe was the first woman to win a Nobel Prize, the first person to win a Nobel Prize twice, and the only person to win a Nobel Prize in two scientific fields.\u001b[39m\n\u001b[0;32m      6\u001b[0m \u001b[38;5;124mHer husband, Pierre Curie, was a co-winner of her first Nobel Prize, making them the first-ever married couple to win the Nobel Prize and launching the Curie family legacy of five Nobel Prizes.\u001b[39m\n\u001b[0;32m      7\u001b[0m \u001b[38;5;124mShe was, in 1906, the first woman to become a professor at the University of Paris.\u001b[39m\n\u001b[0;32m      8\u001b[0m \u001b[38;5;124m\"\"\"\u001b[39m\n\u001b[0;32m      9\u001b[0m documents \u001b[38;5;241m=\u001b[39m [Document(page_content\u001b[38;5;241m=\u001b[39mtext)]\n\u001b[1;32m---> 10\u001b[0m graph_documents \u001b[38;5;241m=\u001b[39m \u001b[43mllm_transformer\u001b[49m\u001b[38;5;241;43m.\u001b[39;49m\u001b[43mconvert_to_graph_documents\u001b[49m\u001b[43m(\u001b[49m\u001b[43mdocuments\u001b[49m\u001b[43m)\u001b[49m\n",
      "File \u001b[1;32mc:\\Work\\Gazprom\\LLM\\llmChat\\new_env\\Lib\\site-packages\\langchain_experimental\\graph_transformers\\llm.py:795\u001b[0m, in \u001b[0;36mLLMGraphTransformer.convert_to_graph_documents\u001b[1;34m(self, documents, config)\u001b[0m\n\u001b[0;32m    783\u001b[0m \u001b[38;5;28;01mdef\u001b[39;00m \u001b[38;5;21mconvert_to_graph_documents\u001b[39m(\n\u001b[0;32m    784\u001b[0m     \u001b[38;5;28mself\u001b[39m, documents: Sequence[Document], config: Optional[RunnableConfig] \u001b[38;5;241m=\u001b[39m \u001b[38;5;28;01mNone\u001b[39;00m\n\u001b[0;32m    785\u001b[0m ) \u001b[38;5;241m-\u001b[39m\u001b[38;5;241m>\u001b[39m List[GraphDocument]:\n\u001b[0;32m    786\u001b[0m \u001b[38;5;250m    \u001b[39m\u001b[38;5;124;03m\"\"\"Convert a sequence of documents into graph documents.\u001b[39;00m\n\u001b[0;32m    787\u001b[0m \n\u001b[0;32m    788\u001b[0m \u001b[38;5;124;03m    Args:\u001b[39;00m\n\u001b[1;32m   (...)\u001b[0m\n\u001b[0;32m    793\u001b[0m \u001b[38;5;124;03m        Sequence[GraphDocument]: The transformed documents as graphs.\u001b[39;00m\n\u001b[0;32m    794\u001b[0m \u001b[38;5;124;03m    \"\"\"\u001b[39;00m\n\u001b[1;32m--> 795\u001b[0m     \u001b[38;5;28;01mreturn\u001b[39;00m \u001b[43m[\u001b[49m\u001b[38;5;28;43mself\u001b[39;49m\u001b[38;5;241;43m.\u001b[39;49m\u001b[43mprocess_response\u001b[49m\u001b[43m(\u001b[49m\u001b[43mdocument\u001b[49m\u001b[43m,\u001b[49m\u001b[43m \u001b[49m\u001b[43mconfig\u001b[49m\u001b[43m)\u001b[49m\u001b[43m \u001b[49m\u001b[38;5;28;43;01mfor\u001b[39;49;00m\u001b[43m \u001b[49m\u001b[43mdocument\u001b[49m\u001b[43m \u001b[49m\u001b[38;5;129;43;01min\u001b[39;49;00m\u001b[43m \u001b[49m\u001b[43mdocuments\u001b[49m\u001b[43m]\u001b[49m\n",
      "File \u001b[1;32mc:\\Work\\Gazprom\\LLM\\llmChat\\new_env\\Lib\\site-packages\\langchain_experimental\\graph_transformers\\llm.py:795\u001b[0m, in \u001b[0;36m<listcomp>\u001b[1;34m(.0)\u001b[0m\n\u001b[0;32m    783\u001b[0m \u001b[38;5;28;01mdef\u001b[39;00m \u001b[38;5;21mconvert_to_graph_documents\u001b[39m(\n\u001b[0;32m    784\u001b[0m     \u001b[38;5;28mself\u001b[39m, documents: Sequence[Document], config: Optional[RunnableConfig] \u001b[38;5;241m=\u001b[39m \u001b[38;5;28;01mNone\u001b[39;00m\n\u001b[0;32m    785\u001b[0m ) \u001b[38;5;241m-\u001b[39m\u001b[38;5;241m>\u001b[39m List[GraphDocument]:\n\u001b[0;32m    786\u001b[0m \u001b[38;5;250m    \u001b[39m\u001b[38;5;124;03m\"\"\"Convert a sequence of documents into graph documents.\u001b[39;00m\n\u001b[0;32m    787\u001b[0m \n\u001b[0;32m    788\u001b[0m \u001b[38;5;124;03m    Args:\u001b[39;00m\n\u001b[1;32m   (...)\u001b[0m\n\u001b[0;32m    793\u001b[0m \u001b[38;5;124;03m        Sequence[GraphDocument]: The transformed documents as graphs.\u001b[39;00m\n\u001b[0;32m    794\u001b[0m \u001b[38;5;124;03m    \"\"\"\u001b[39;00m\n\u001b[1;32m--> 795\u001b[0m     \u001b[38;5;28;01mreturn\u001b[39;00m [\u001b[38;5;28;43mself\u001b[39;49m\u001b[38;5;241;43m.\u001b[39;49m\u001b[43mprocess_response\u001b[49m\u001b[43m(\u001b[49m\u001b[43mdocument\u001b[49m\u001b[43m,\u001b[49m\u001b[43m \u001b[49m\u001b[43mconfig\u001b[49m\u001b[43m)\u001b[49m \u001b[38;5;28;01mfor\u001b[39;00m document \u001b[38;5;129;01min\u001b[39;00m documents]\n",
      "File \u001b[1;32mc:\\Work\\Gazprom\\LLM\\llmChat\\new_env\\Lib\\site-packages\\langchain_experimental\\graph_transformers\\llm.py:748\u001b[0m, in \u001b[0;36mLLMGraphTransformer.process_response\u001b[1;34m(self, document, config)\u001b[0m\n\u001b[0;32m    745\u001b[0m \u001b[38;5;28;01mfor\u001b[39;00m rel \u001b[38;5;129;01min\u001b[39;00m parsed_json:\n\u001b[0;32m    746\u001b[0m     \u001b[38;5;66;03m# Nodes need to be deduplicated using a set\u001b[39;00m\n\u001b[0;32m    747\u001b[0m     nodes_set\u001b[38;5;241m.\u001b[39madd((rel[\u001b[38;5;124m\"\u001b[39m\u001b[38;5;124mhead\u001b[39m\u001b[38;5;124m\"\u001b[39m], rel[\u001b[38;5;124m\"\u001b[39m\u001b[38;5;124mhead_type\u001b[39m\u001b[38;5;124m\"\u001b[39m]))\n\u001b[1;32m--> 748\u001b[0m     nodes_set\u001b[38;5;241m.\u001b[39madd((rel[\u001b[38;5;124m\"\u001b[39m\u001b[38;5;124mtail\u001b[39m\u001b[38;5;124m\"\u001b[39m], \u001b[43mrel\u001b[49m\u001b[43m[\u001b[49m\u001b[38;5;124;43m\"\u001b[39;49m\u001b[38;5;124;43mtail_type\u001b[39;49m\u001b[38;5;124;43m\"\u001b[39;49m\u001b[43m]\u001b[49m))\n\u001b[0;32m    750\u001b[0m     source_node \u001b[38;5;241m=\u001b[39m Node(\u001b[38;5;28mid\u001b[39m\u001b[38;5;241m=\u001b[39mrel[\u001b[38;5;124m\"\u001b[39m\u001b[38;5;124mhead\u001b[39m\u001b[38;5;124m\"\u001b[39m], \u001b[38;5;28mtype\u001b[39m\u001b[38;5;241m=\u001b[39mrel[\u001b[38;5;124m\"\u001b[39m\u001b[38;5;124mhead_type\u001b[39m\u001b[38;5;124m\"\u001b[39m])\n\u001b[0;32m    751\u001b[0m     target_node \u001b[38;5;241m=\u001b[39m Node(\u001b[38;5;28mid\u001b[39m\u001b[38;5;241m=\u001b[39mrel[\u001b[38;5;124m\"\u001b[39m\u001b[38;5;124mtail\u001b[39m\u001b[38;5;124m\"\u001b[39m], \u001b[38;5;28mtype\u001b[39m\u001b[38;5;241m=\u001b[39mrel[\u001b[38;5;124m\"\u001b[39m\u001b[38;5;124mtail_type\u001b[39m\u001b[38;5;124m\"\u001b[39m])\n",
      "\u001b[1;31mKeyError\u001b[0m: 'tail_type'"
     ]
    }
   ],
   "source": [
    "# from langchain_core.documents import Document\n",
    "\n",
    "# text = \"\"\"\n",
    "# Marie Curie, born in 1867, was a Polish and naturalised-French physicist and chemist who conducted pioneering research on radioactivity.\n",
    "# She was the first woman to win a Nobel Prize, the first person to win a Nobel Prize twice, and the only person to win a Nobel Prize in two scientific fields.\n",
    "# Her husband, Pierre Curie, was a co-winner of her first Nobel Prize, making them the first-ever married couple to win the Nobel Prize and launching the Curie family legacy of five Nobel Prizes.\n",
    "# She was, in 1906, the first woman to become a professor at the University of Paris.\n",
    "# \"\"\"\n",
    "# documents = [Document(page_content=text)]\n",
    "# graph_documents = llm_transformer.convert_to_graph_documents(documents)"
   ]
  },
  {
   "cell_type": "code",
   "execution_count": 20,
   "metadata": {},
   "outputs": [
    {
     "name": "stdout",
     "output_type": "stream",
     "text": [
      "0\n",
      "error\n",
      "nodes=[Node(id='Caruso family', type='Family'), Node(id='culinary heritage', type='Heritage'), Node(id='Maria', type='Person'), Node(id='Giovanni Caruso', type='Person'), Node(id='Sicily', type='Region'), Node(id='family members', type='Group')] relationships=[Relationship(source=Node(id='Caruso family', type='Family'), target=Node(id='Sicily', type='Region'), type='IS_PART_OF'), Relationship(source=Node(id='Caruso family', type='Family'), target=Node(id='culinary heritage', type='Heritage'), type='HAS_HERITAGE'), Relationship(source=Node(id='Caruso family', type='Family'), target=Node(id='family members', type='Group'), type='HAS_MEMBER'), Relationship(source=Node(id='Giovanni Caruso', type='Person'), target=Node(id='Caruso family', type='Family'), type='IS_PART_OF'), Relationship(source=Node(id='Maria', type='Person'), target=Node(id='Caruso family', type='Family'), type='IS_PART_OF')] source=Document(metadata={'source': 'C:\\\\Work\\\\Gazprom\\\\LLM\\\\neo4j\\\\dummytext.txt'}, page_content=\"1. The Story of AmicoвЂ™s Family: A Legacy of Love and Tradition\\nIn the idyllic village of Santa Caterina, amidst the rolling hills and sun-kissed landscapes of Sicily, lies the genesis of the Caruso family, a lineage intertwined with the island's rich culinary tapestry. The Carusos were not mere inhabitants of the land; they were the keepers of a culinary heritage that spanned generations. Each family member contributed their unique flair, crafting a narrative of flavors that reflected their diverse experiences and deep-seated love for food.\\n\\nGiovanni Caruso and Maria: The Founding Generation\")\n",
      "1\n",
      "error\n",
      "nodes=[Node(id='Giovanni Caruso and Maria', type='Person'), Node(id='olives and grapes', type='Product'), Node(id='the kitchen', type='Location'), Node(id='Maria', type='Person'), Node(id='Giovanni Caruso', type='Person'), Node(id='Antonio Caruso', type='Person'), Node(id='Santa Caterina', type='Location')] relationships=[Relationship(source=Node(id='Giovanni Caruso', type='Person'), target=Node(id='Maria', type='Person'), type='PARENT_OF'), Relationship(source=Node(id='Giovanni Caruso', type='Person'), target=Node(id='Santa Caterina', type='Location'), type='FARMER_IN'), Relationship(source=Node(id='Giovanni Caruso', type='Person'), target=Node(id='olives and grapes', type='Product'), type='PRODUCED'), Relationship(source=Node(id='Maria', type='Person'), target=Node(id='Giovanni Caruso', type='Person'), type='WIFE_OF'), Relationship(source=Node(id='Maria', type='Person'), target=Node(id='the kitchen', type='Location'), type='COOK_IN'), Relationship(source=Node(id='Antonio Caruso', type='Person'), target=Node(id='Giovanni Caruso and Maria', type='Person'), type='STORYTELLER_OF')] source=Document(metadata={'source': 'C:\\\\Work\\\\Gazprom\\\\LLM\\\\neo4j\\\\dummytext.txt'}, page_content=\"Giovanni Caruso and Maria: The Founding Generation\\n\\nGiovanni Caruso, Amico's great-grandfather, was a man of the earth. His calloused hands spoke of years spent cultivating the fertile soils of Santa Caterina, producing olives and grapes that were the pride of the region. Giovanni was not just a farmer but an alchemist of flavors, blending the fruits of his labor into exquisite oils and wines. His wife, Maria, was the soul of the kitchen. A masterful cook, Maria's dishes were a symphony of hearty stews and delicate pastries, passed down from her ancestors and refined with her own touch. The couple's home was a haven of culinary experimentation and love, where their children were introduced to the secrets of the Sicilian kitchen.\\n\\nAntonio Caruso: The Storyteller and Innovator\")\n",
      "2\n",
      "error\n",
      "nodes=[Node(id='null', type='null'), Node(id='Giovanni and Maria', type='Family'), Node(id='Village', type='Location'), Node(id='Antonio Caruso', type='Person'), Node(id='Pietro and Sofia', type='Family'), Node(id='Sicilian and Tuscan flavors', type='Cuisine')] relationships=[Relationship(source=Node(id='Antonio Caruso', type='Person'), target=Node(id='Giovanni and Maria', type='Family'), type='IS_CHILD_OF'), Relationship(source=Node(id='Antonio Caruso', type='Person'), target=Node(id='Giovanni and Maria', type='Family'), type='INHERITS_PASSION_FROM'), Relationship(source=Node(id='Antonio Caruso', type='Person'), target=Node(id='null', type='null'), type='IS_CHARISMATIC_STORYTELLER'), Relationship(source=Node(id='Antonio Caruso', type='Person'), target=Node(id='null', type='null'), type='HAS_CULINARY_PROWESS'), Relationship(source=Node(id='Antonio Caruso', type='Person'), target=Node(id='Village', type='Location'), type='IS_GO_TO_CHEF'), Relationship(source=Node(id='Antonio Caruso', type='Person'), target=Node(id='Sicilian and Tuscan flavors', type='Cuisine'), type='CREATES_FUSION_DISHES'), Relationship(source=Node(id='Pietro and Sofia', type='Family'), target=Node(id='Antonio Caruso', type='Person'), type='IS_PARENT_OF')] source=Document(metadata={'source': 'C:\\\\Work\\\\Gazprom\\\\LLM\\\\neo4j\\\\dummytext.txt'}, page_content=\"Antonio Caruso: The Storyteller and Innovator\\n\\nAntonio, Giovanni and Maria's eldest son, inherited his parents' passion but added his flair for innovation. A charismatic storyteller, Antonio was known for captivating his family and the village with tales of their ancestry and the island's history. His culinary prowess was unmatched, blending traditional Sicilian flavors with inventive techniques he picked up from his travels across Italy. Antonio became the village's go-to chef for weddings and grand feasts, creating dishes that were both nostalgic and avant-garde. His most famous creation, a fusion of Sicilian and Tuscan flavors, laid the groundwork for what would later become Amico's signature style.\\n\\nPietro and Sofia: The Guardians of Tradition\")\n",
      "3\n",
      "error\n",
      "nodes=[Node(id='baker', type='Occupation'), Node(id='Antonio', type='Person'), Node(id='fisherman', type='Occupation'), Node(id='Pietro', type='Person'), Node(id='Sofia', type='Person'), Node(id='Nonna Lucia', type='Person'), Node(id='Pietro and Sofia', type='Family'), Node(id='Amico', type='Person')] relationships=[Relationship(source=Node(id='Pietro', type='Person'), target=Node(id='Sofia', type='Person'), type='RUNS_WITH'), Relationship(source=Node(id='Pietro', type='Person'), target=Node(id='Antonio', type='Person'), type='IS_SON_OF'), Relationship(source=Node(id='Pietro', type='Person'), target=Node(id='fisherman', type='Occupation'), type='WORKS_AS'), Relationship(source=Node(id='Sofia', type='Person'), target=Node(id='Pietro', type='Person'), type='IS_WIFE_OF'), Relationship(source=Node(id='Sofia', type='Person'), target=Node(id='baker', type='Occupation'), type='WORKS_AS'), Relationship(source=Node(id='Amico', type='Person'), target=Node(id='Pietro and Sofia', type='Family'), type='IS_CHILD_OF'), Relationship(source=Node(id='Nonna Lucia', type='Person'), target=Node(id='Pietro and Sofia', type='Family'), type='IS_MENTOR_OF')] source=Document(metadata={'source': 'C:\\\\Work\\\\Gazprom\\\\LLM\\\\neo4j\\\\dummytext.txt'}, page_content=\"Pietro and Sofia: The Guardians of Tradition\\n\\nPietro, Antonio's eldest son, was a skilled fisherman who loved the sea as much as the kitchen. His daily catches were the freshest seafood in the village, a staple in the family trattoria he ran with his wife, Sofia. Sofia was a baker par excellence, known for her incredible pastries and bread. Together, they transformed the trattoria into a local institution, famous for its warm hospitality and authentic flavors. The trattoria was a microcosm of Sicilian culture, where stories were shared over plates of fresh pasta and glasses of homemade wine. Pietro and Sofia instilled in their children, including Amico, the values of hard work, respect for tradition, and the joy of feeding others.\\n\\nNonna Lucia: The Matriarch and Mentor\")\n",
      "4\n",
      "error\n",
      "nodes=[Node(id='Antonio', type='Person'), Node(id='Caruso family', type='Family'), Node(id='Nonna Lucia', type='Person'), Node(id='Caruso family recipes', type='Recipes'), Node(id='Amico', type='Person')] relationships=[Relationship(source=Node(id='Nonna Lucia', type='Person'), target=Node(id='Amico', type='Person'), type='IS_MOTHER_OF'), Relationship(source=Node(id='Nonna Lucia', type='Person'), target=Node(id='Antonio', type='Person'), type='IS_GRANDMOTHER_OF'), Relationship(source=Node(id='Nonna Lucia', type='Person'), target=Node(id='Amico', type='Person'), type='IS_MENTOR_OF'), Relationship(source=Node(id='Nonna Lucia', type='Person'), target=Node(id='Caruso family recipes', type='Recipes'), type='IS_CUSTODIAN_OF'), Relationship(source=Node(id='Nonna Lucia', type='Person'), target=Node(id='Amico', type='Person'), type='TEACHES'), Relationship(source=Node(id='Nonna Lucia', type='Person'), target=Node(id='Caruso family', type='Family'), type='IS_PILLAR_OF_STRENGTH_FOR')] source=Document(metadata={'source': 'C:\\\\Work\\\\Gazprom\\\\LLM\\\\neo4j\\\\dummytext.txt'}, page_content=\"Nonna Lucia: The Matriarch and Mentor\\n\\nLucia, Antonio's sister and Amico's grandmother, was the matriarch of the Caruso family. A culinary sage, Nonna Lucia was the custodian of the family's recipes, a role she took very seriously. Her kitchen was a sacred space, where she taught her grandchildren the art of Sicilian cooking. Under her watchful eye, Amico learned the delicate balance of flavors in a Caponata and the intricate process of making fresh pasta. Nonna Lucia's influence extended beyond the kitchen; she was a pillar of strength and wisdom, guiding her family with love and a firm hand. Her teachings went beyond recipes, imparting lessons about life, love, and the importance of community.\")\n",
      "5\n",
      "error\n",
      "nodes=[Node(id='La Dolce Vita - Rome', type='Restaurant'), Node(id=\"Amico's Family\", type='Family'), Node(id='Antonio Caruso', type='Person'), Node(id='Other Restaurants', type='Restaurants'), Node(id='Culinary Empire', type='Concept')] relationships=[Relationship(source=Node(id=\"Amico's Family\", type='Family'), target=Node(id='Other Restaurants', type='Restaurants'), type='OWNS'), Relationship(source=Node(id='Culinary Empire', type='Concept'), target=Node(id=\"Amico's Family\", type='Family'), type='IS_PART_OF'), Relationship(source=Node(id='Antonio Caruso', type='Person'), target=Node(id=\"Amico's Family\", type='Family'), type='IS_MEMBER_OF'), Relationship(source=Node(id='Antonio Caruso', type='Person'), target=Node(id='La Dolce Vita - Rome', type='Restaurant'), type='OWNS'), Relationship(source=Node(id='Other Restaurants', type='Restaurants'), target=Node(id=\"Amico's Family\", type='Family'), type='SHARES_COMMON_THREAD'), Relationship(source=Node(id='La Dolce Vita - Rome', type='Restaurant'), target=Node(id='Antonio Caruso', type='Person'), type='IS_PART_OF')] source=Document(metadata={'source': 'C:\\\\Work\\\\Gazprom\\\\LLM\\\\neo4j\\\\dummytext.txt'}, page_content=\"2. Other Restaurants Owned by Amico's Family: A Culinary Empire\\nAs the Caruso family grew, so did their culinary empire. Each member, having honed their skills under the tutelage of another, ventured into different regions, opening restaurants that showcased their unique interpretations of Italian cuisine. These establishments, while diverse in their offerings, were united by a common thread: a deep respect for tradition and a commitment to excellence.\\n\\n1. La Dolce Vita - Rome: Owned by Antonio Caruso\")\n",
      "6\n",
      "error\n",
      "nodes=[Node(id='Truffle Risotto with Pecorino Romano', type='Dish'), Node(id='Cacio e Pepe', type='Dish'), Node(id='Giovanni', type='Person'), Node(id='Il Mare Nostrum', type='Restaurant'), Node(id='La Dolce Vita', type='Restaurant'), Node(id='Carbonara', type='Dish'), Node(id='Antonio Caruso', type='Person'), Node(id='Pietro Caruso', type='Person')] relationships=[Relationship(source=Node(id='Antonio Caruso', type='Person'), target=Node(id='La Dolce Vita', type='Restaurant'), type='OWNS'), Relationship(source=Node(id='Antonio Caruso', type='Person'), target=Node(id='La Dolce Vita', type='Restaurant'), type='WORKS_AT'), Relationship(source=Node(id='Antonio Caruso', type='Person'), target=Node(id='Cacio e Pepe', type='Dish'), type='CREATED'), Relationship(source=Node(id='Antonio Caruso', type='Person'), target=Node(id='Carbonara', type='Dish'), type='CREATED'), Relationship(source=Node(id='Antonio Caruso', type='Person'), target=Node(id='Truffle Risotto with Pecorino Romano', type='Dish'), type='CREATED'), Relationship(source=Node(id='Antonio Caruso', type='Person'), target=Node(id='Giovanni', type='Person'), type='INHERITED_SKILL'), Relationship(source=Node(id='Pietro Caruso', type='Person'), target=Node(id='Il Mare Nostrum', type='Restaurant'), type='OWNS')] source=Document(metadata={'source': 'C:\\\\Work\\\\Gazprom\\\\LLM\\\\neo4j\\\\dummytext.txt'}, page_content='1. La Dolce Vita - Rome: Owned by Antonio Caruso\\n\\nAfter years of perfecting his craft in Santa Caterina, Antonio ventured to Rome, the Eternal City, where he opened \"La Dolce Vita.\" Situated near the iconic Trevi Fountain, this restaurant was Antonio\\'s ode to Rome\\'s vibrant culture. Antonio brought his innovative spirit to the city\\'s classic dishes, offering a menu that included Cacio e Pepe and Carbonara, alongside his signature Truffle Risotto with Pecorino Romano. The restaurant\\'s elegant ambiance, featuring live classical music, made it a popular destination. Antonio\\'s ability to blend tradition with modernity, a skill he had honed from his father Giovanni, made \"La Dolce Vita\" a culinary landmark in Rome.\\n\\n2. Il Mare Nostrum - Amalfi Coast: Owned by Pietro Caruso')\n",
      "7\n",
      "error\n",
      "nodes=[Node(id='fishing', type='Skill'), Node(id='Sofia Caruso', type='Person'), Node(id='Amalfi Coast', type='Location'), Node(id='Il Mare Nostrum', type='Restaurant'), Node(id='baking', type='Skill'), Node(id='Italian coastal cuisine', type='Cuisine'), Node(id='Pietro Caruso', type='Person'), Node(id='his father', type='Person')] relationships=[Relationship(source=Node(id='Pietro Caruso', type='Person'), target=Node(id='Il Mare Nostrum', type='Restaurant'), type='OWNS'), Relationship(source=Node(id='Pietro Caruso', type='Person'), target=Node(id='his father', type='Person'), type='HAS_FATHER'), Relationship(source=Node(id='Pietro Caruso', type='Person'), target=Node(id='Sofia Caruso', type='Person'), type='MARRIED_TO'), Relationship(source=Node(id='Il Mare Nostrum', type='Restaurant'), target=Node(id='Amalfi Coast', type='Location'), type='LOCATED_IN'), Relationship(source=Node(id='Pietro Caruso', type='Person'), target=Node(id='fishing', type='Skill'), type='EXPERTISE_IN'), Relationship(source=Node(id='Sofia Caruso', type='Person'), target=Node(id='baking', type='Skill'), type='SKILLED_IN'), Relationship(source=Node(id='Il Mare Nostrum', type='Restaurant'), target=Node(id='Italian coastal cuisine', type='Cuisine'), type='SERVES'), Relationship(source=Node(id='Pietro Caruso', type='Person'), target=Node(id='Sofia Caruso', type='Person'), type='HAS_WIFE')] source=Document(metadata={'source': 'C:\\\\Work\\\\Gazprom\\\\LLM\\\\neo4j\\\\dummytext.txt'}, page_content='2. Il Mare Nostrum - Amalfi Coast: Owned by Pietro Caruso\\n\\nPietro, having inherited his father\\'s love for the sea, opened \"Il Mare Nostrum\" on the breathtaking Amalfi Coast. This restaurant was a celebration of Italy\\'s coastal cuisine, with a focus on the freshest seafood. Pietro\\'s expertise in fishing ensured that the daily catch was of the highest quality, while his wife Sofia\\'s baking skills added a unique twist to the menu. Signature dishes like Grilled Octopus with Lemon and Herbs and Spaghetti alle Vongole became instant classics. The stunning views of the Mediterranean, coupled with the restaurant\\'s serene ambiance, made \"Il Mare Nostrum\" a must-visit for anyone exploring the Amalfi Coast.\\n\\n3. La Terra di Siena - Tuscany: Owned by Sofia Caruso')\n",
      "8\n",
      "error\n",
      "nodes=[Node(id='Sofia Caruso', type='Person'), Node(id='locally sourced ingredients', type='Ingredient'), Node(id=\"Amico's\", type='Restaurant'), Node(id='La Terra di Siena', type='Restaurant'), Node(id='Tiramisu and Panna Cotta', type='Dessert'), Node(id='Amico Caruso', type='Person')] relationships=[Relationship(source=Node(id='Sofia Caruso', type='Person'), target=Node(id='La Terra di Siena', type='Restaurant'), type='OWNS'), Relationship(source=Node(id='Sofia Caruso', type='Person'), target=Node(id='La Terra di Siena', type='Restaurant'), type='WORKS_AT'), Relationship(source=Node(id='Sofia Caruso', type='Person'), target=Node(id='Tiramisu and Panna Cotta', type='Dessert'), type='CREATES'), Relationship(source=Node(id='Sofia Caruso', type='Person'), target=Node(id='locally sourced ingredients', type='Ingredient'), type='USES'), Relationship(source=Node(id='Amico Caruso', type='Person'), target=Node(id=\"Amico's\", type='Restaurant'), type='OWNS'), Relationship(source=Node(id='Amico Caruso', type='Person'), target=Node(id=\"Amico's\", type='Restaurant'), type='WORKS_AT')] source=Document(metadata={'source': 'C:\\\\Work\\\\Gazprom\\\\LLM\\\\neo4j\\\\dummytext.txt'}, page_content='3. La Terra di Siena - Tuscany: Owned by Sofia Caruso\\n\\nSofia, the family\\'s talented baker, found her calling amidst the rolling hills of Tuscany. She opened \"La Terra di Siena,\" a rustic retreat that emphasized a farm-to-table dining experience. The restaurant, housed in a beautifully restored farmhouse, showcased the best of Tuscan cuisine, from Bistecca alla Fiorentina to Pappardelle al Cinghiale. Sofia\\'s desserts, particularly her Tiramisu and Panna Cotta, were legendary, attracting visitors from far and wide. The restaurant\\'s picturesque setting, surrounded by vineyards and olive groves, provided a perfect backdrop for wine tastings and intimate dinners. Sofia\\'s attention to detail and her commitment to using locally sourced ingredients made \"La Terra di Siena\" a favorite among food enthusiasts.\\n\\n4. Amico\\'s - New York City: Owned by Amico Caruso')\n",
      "9\n",
      "error\n",
      "nodes=[Node(id='Bella Vita', type='Restaurant'), Node(id='Sicilian cuisine', type='Cuisine'), Node(id='Burrata with Heirloom Tomatoes', type='Dish'), Node(id=\"his family's culinary legacy\", type='Legacy'), Node(id=\"Amico's\", type='Restaurant'), Node(id='Porcini Mushroom Risotto', type='Dish'), Node(id='Lucia Caruso', type='Person'), Node(id='Amico', type='Person')] relationships=[Relationship(source=Node(id='Amico', type='Person'), target=Node(id=\"Amico's\", type='Restaurant'), type='OWNS'), Relationship(source=Node(id='Amico', type='Person'), target=Node(id=\"his family's culinary legacy\", type='Legacy'), type='INSPIRED_BY'), Relationship(source=Node(id='Amico', type='Person'), target=Node(id=\"Amico's\", type='Restaurant'), type='OPENED'), Relationship(source=Node(id=\"Amico's\", type='Restaurant'), target=Node(id='Porcini Mushroom Risotto', type='Dish'), type='SERVES'), Relationship(source=Node(id=\"Amico's\", type='Restaurant'), target=Node(id='Burrata with Heirloom Tomatoes', type='Dish'), type='SERVES'), Relationship(source=Node(id='Amico', type='Person'), target=Node(id='Sicilian cuisine', type='Cuisine'), type='PASSED_ON_CUISINE'), Relationship(source=Node(id='Lucia Caruso', type='Person'), target=Node(id='Bella Vita', type='Restaurant'), type='OWNS')] source=Document(metadata={'source': 'C:\\\\Work\\\\Gazprom\\\\LLM\\\\neo4j\\\\dummytext.txt'}, page_content='4. Amico\\'s - New York City: Owned by Amico Caruso\\n\\nAmico, inspired by his family\\'s culinary legacy and his travels, opened \"Amico\\'s\" in the bustling metropolis of New York City. The restaurant was a modern take on Italian cuisine, blending traditional recipes with contemporary trends. The menu featured a range of dishes, from Porcini Mushroom Risotto to Burrata with Heirloom Tomatoes. Amico\\'s passion for Sicilian cuisine was evident in every dish, but he also incorporated influences from his experiences across Italy and beyond. \"Amico\\'s\" quickly became a culinary hotspot, attracting a diverse clientele, including celebrities and food critics. The restaurant\\'s chic interior and Amico\\'s charismatic presence made it a standout in the competitive New York dining scene.\\n\\n5. Bella Vita - Los Angeles: Owned by Lucia Caruso')\n",
      "10\n",
      "error\n",
      "nodes=[Node(id='Bella Vita', type='Restaurant'), Node(id='Los Angeles', type='City'), Node(id='rooftop bar', type='Feature'), Node(id='gluten-free pasta and organic salads', type='Menu'), Node(id='Lasagna and Cannoli', type='Menu'), Node(id='Lucia Caruso', type='Person'), Node(id='her grandmother', type='Person')] relationships=[Relationship(source=Node(id='Lucia Caruso', type='Person'), target=Node(id='Bella Vita', type='Restaurant'), type='OWNS'), Relationship(source=Node(id='Lucia Caruso', type='Person'), target=Node(id='her grandmother', type='Person'), type='INHERITED_TALENT'), Relationship(source=Node(id='Lucia Caruso', type='Person'), target=Node(id='Bella Vita', type='Restaurant'), type='CREATED'), Relationship(source=Node(id='Bella Vita', type='Restaurant'), target=Node(id='Los Angeles', type='City'), type='LOCATED_IN'), Relationship(source=Node(id='Bella Vita', type='Restaurant'), target=Node(id='gluten-free pasta and organic salads', type='Menu'), type='SERVES_MENU'), Relationship(source=Node(id='Bella Vita', type='Restaurant'), target=Node(id='Lasagna and Cannoli', type='Menu'), type='SERVES_MENU'), Relationship(source=Node(id='Bella Vita', type='Restaurant'), target=Node(id='rooftop bar', type='Feature'), type='HAS_FEATURE'), Relationship(source=Node(id='Bella Vita', type='Restaurant'), target=Node(id='Los Angeles', type='City'), type='LOCATED_IN')] source=Document(metadata={'source': 'C:\\\\Work\\\\Gazprom\\\\LLM\\\\neo4j\\\\dummytext.txt'}, page_content='5. Bella Vita - Los Angeles: Owned by Lucia Caruso\\n\\nLucia, named after her grandmother and inheriting her culinary talent, brought a piece of Sicily to sunny Los Angeles with \"Bella Vita.\" Lucia was a creative force, combining her grandmother\\'s traditional recipes with her flair for innovation. The restaurant offered a menu that catered to LA\\'s diverse and health-conscious population, featuring dishes like gluten-free pasta and organic salads, alongside indulgent classics like Lasagna and Cannoli. \"Bella Vita\\'s\" rooftop bar, offering panoramic views of the city, became a popular spot for enjoying Italian-inspired cocktails and small plates. Lucia\\'s commitment to sustainability and her support for local artists made \"Bella Vita\" a hub for food, art, and culture.')\n",
      "11\n",
      "error\n",
      "nodes=[Node(id='Restaurants', type='Business'), Node(id=\"Amico's Community Involvement and Social Causes\", type='Social Cause'), Node(id='Seafood preparation and baking', type='Topic'), Node(id='Next generation of chefs', type='Group'), Node(id='Caruso family', type='Family'), Node(id='Rome', type='Location'), Node(id='Antonio Caruso', type='Person'), Node(id='Lucia Caruso', type='Person'), Node(id='Young chefs', type='Group'), Node(id='Pietro and Sofia Caruso', type='People'), Node(id='Sustainable cooking practices', type='Topic')] relationships=[Relationship(source=Node(id='Caruso family', type='Family'), target=Node(id=\"Amico's Community Involvement and Social Causes\", type='Social Cause'), type='INVOLVED_IN'), Relationship(source=Node(id='Caruso family', type='Family'), target=Node(id='Restaurants', type='Business'), type='RUNS'), Relationship(source=Node(id='Antonio Caruso', type='Person'), target=Node(id='Rome', type='Location'), type='HOSTED_WORKSHOP_IN'), Relationship(source=Node(id='Pietro and Sofia Caruso', type='People'), target=Node(id='Seafood preparation and baking', type='Topic'), type='OFFERED_CLASSES_IN'), Relationship(source=Node(id='Lucia Caruso', type='Person'), target=Node(id='Sustainable cooking practices', type='Topic'), type='FOCUSED_ON'), Relationship(source=Node(id='Caruso family', type='Family'), target=Node(id='Young chefs', type='Group'), type='OFFERED_MENTORSHIP_PROGRAMS_TO'), Relationship(source=Node(id='Caruso family', type='Family'), target=Node(id='Next generation of chefs', type='Group'), type='PLAYED_ROLE_IN')] source=Document(metadata={'source': 'C:\\\\Work\\\\Gazprom\\\\LLM\\\\neo4j\\\\dummytext.txt'}, page_content=\"3. AmicoвЂ™s Community Involvement and Social Causes\\nThe Caruso family's influence extended beyond their restaurants, as they collectively believed in the power of food to make a difference. Their commitment to social causes was a cornerstone of their philosophy, reflected in various initiatives aimed at giving back to the community and promoting cultural exchange.\\n\\n1. Culinary Workshops and Mentorship Programs\\n\\nEach member of the Caruso family played a role in nurturing the next generation of chefs. Antonio hosted workshops in Rome, sharing his innovative techniques, while Pietro and Sofia offered classes in seafood preparation and baking, respectively. Lucia, in Los Angeles, focused on sustainable cooking practices, teaching aspiring chefs the importance of using organic and local ingredients. These workshops provided invaluable hands-on experience, and the family's mentorship programs offered guidance and support to young chefs from diverse backgrounds.\\n\\n2. Farm-to-Table Initiatives\")\n",
      "12\n",
      "error\n",
      "nodes=[Node(id='seasonal and organic produce', type='Concept'), Node(id='Farm-to-Table initiative', type='Initiative'), Node(id='sustainable and ethical food practices', type='Concept'), Node(id='locally sourced ingredients', type='Concept'), Node(id='Carusos', type='Family'), Node(id='Amico', type='Person')] relationships=[Relationship(source=Node(id='Carusos', type='Family'), target=Node(id='sustainable and ethical food practices', type='Concept'), type='ADVOCATES_FOR'), Relationship(source=Node(id='Amico', type='Person'), target=Node(id='Farm-to-Table initiative', type='Initiative'), type='SPEARHEADED'), Relationship(source=Node(id='Farm-to-Table initiative', type='Initiative'), target=Node(id='locally sourced ingredients', type='Concept'), type='ENSURES_USE_OF'), Relationship(source=Node(id='Carusos', type='Family'), target=Node(id='seasonal and organic produce', type='Concept'), type='RAISED_AWARENESS_ABOUT')] source=Document(metadata={'source': 'C:\\\\Work\\\\Gazprom\\\\LLM\\\\neo4j\\\\dummytext.txt'}, page_content='2. Farm-to-Table Initiatives\\n\\nThe Carusos were strong advocates for sustainable and ethical food practices. Amico, in particular, spearheaded the \"Farm-to-Table\" initiative, collaborating with local farmers and producers across all their restaurants. This initiative ensured that their establishments used only the freshest, locally sourced ingredients, promoting environmental sustainability and supporting the local economy. The family also worked together to raise awareness about the benefits of consuming seasonal and organic produce.\\n\\n3. Food for All: Community Kitchens and Food Drives')\n",
      "13\n",
      "error\n",
      "nodes=[Node(id='community kitchens', type='Facility'), Node(id='Carusos', type='Person/Company'), Node(id='Food for All', type='Initiative'), Node(id='Carusos family', type='Group'), Node(id='food drives', type='Event'), Node(id='homeless and low-income families', type='Group')] relationships=[Relationship(source=Node(id='Carusos', type='Person/Company'), target=Node(id='Food for All', type='Initiative'), type='LAUNCHED'), Relationship(source=Node(id='Carusos', type='Person/Company'), target=Node(id='community kitchens', type='Facility'), type='SET_UP'), Relationship(source=Node(id='community kitchens', type='Facility'), target=Node(id='homeless and low-income families', type='Group'), type='PROVIDE_SERVICE_TO'), Relationship(source=Node(id='Carusos', type='Person/Company'), target=Node(id='food drives', type='Event'), type='ORGANIZED'), Relationship(source=Node(id='Food for All', type='Initiative'), target=Node(id='Carusos family', type='Group'), type='INVOLVED')] source=Document(metadata={'source': 'C:\\\\Work\\\\Gazprom\\\\LLM\\\\neo4j\\\\dummytext.txt'}, page_content='3. Food for All: Community Kitchens and Food Drives\\n\\nIn their efforts to address food insecurity, the Carusos launched the \"Food for All\" initiative, setting up community kitchens in each city where they had restaurants. These kitchens provided free meals to the homeless and low-income families, ensuring that everyone had access to nutritious food. Additionally, they organized food drives, collecting donations from patrons and local businesses. The initiative was a family effort, with each member contributing their skills and resources to help those in need.\\n\\n4. Cultural and Culinary Festivals')\n",
      "14\n",
      "error\n",
      "nodes=[Node(id='people from different backgrounds', type='Group'), Node(id='Carusos', type='Person/Company'), Node(id='cultural and culinary festivals', type='Event'), Node(id='food', type='Concept')] relationships=[Relationship(source=Node(id='Carusos', type='Person/Company'), target=Node(id='cultural and culinary festivals', type='Event'), type='HOSTS_FESTIVAL'), Relationship(source=Node(id='Carusos', type='Person/Company'), target=Node(id='cultural and culinary festivals', type='Event'), type='HOSTS_FESTIVAL'), Relationship(source=Node(id='Carusos', type='Person/Company'), target=Node(id='cultural and culinary festivals', type='Event'), type='HOSTS_FESTIVAL'), Relationship(source=Node(id='Carusos', type='Person/Company'), target=Node(id='people from different backgrounds', type='Group'), type='FACILITATES_CULTURAL_EXCHANGE'), Relationship(source=Node(id='cultural and culinary festivals', type='Event'), target=Node(id='people from different backgrounds', type='Group'), type='FACILITATES_CULTURAL_EXCHANGE'), Relationship(source=Node(id='food', type='Concept'), target=Node(id='cultural and culinary festivals', type='Event'), type='CELEBRATED')] source=Document(metadata={'source': 'C:\\\\Work\\\\Gazprom\\\\LLM\\\\neo4j\\\\dummytext.txt'}, page_content='4. Cultural and Culinary Festivals\\n\\nThe Carusos believed in celebrating diversity through food and culture. They organized annual cultural and culinary festivals at their respective restaurants, showcasing traditional Sicilian dishes alongside other international cuisines. These festivals featured live performances, cooking demonstrations, and artisan markets, creating a vibrant and inclusive atmosphere. The events were not only a celebration of food but also a platform for cultural exchange, bringing people from different backgrounds together.\\n\\n5. Support for Local Artists and Artisans')\n",
      "15\n",
      "error\n",
      "nodes=[Node(id='Local Musicians', type='Group'), Node(id='Artisans', type='Group'), Node(id='Caruso family', type='Family'), Node(id='Local Artists', type='Group'), Node(id='Performers', type='Group'), Node(id='Amico', type='Person')] relationships=[Relationship(source=Node(id='Caruso family', type='Family'), target=Node(id='Local Artists', type='Group'), type='SUPPORTS'), Relationship(source=Node(id='Caruso family', type='Family'), target=Node(id='Artisans', type='Group'), type='SUPPORTS'), Relationship(source=Node(id='Amico', type='Person'), target=Node(id='Local Artists', type='Group'), type='ADVOCATES_FOR'), Relationship(source=Node(id='Caruso family', type='Family'), target=Node(id='Local Musicians', type='Group'), type='COLLABORATES_WITH'), Relationship(source=Node(id='Caruso family', type='Family'), target=Node(id='Performers', type='Group'), type='COLLABORATES_WITH')] source=Document(metadata={'source': 'C:\\\\Work\\\\Gazprom\\\\LLM\\\\neo4j\\\\dummytext.txt'}, page_content=\"5. Support for Local Artists and Artisans\\n\\nArt and food were intertwined in the Caruso family's philosophy. Each restaurant featured works by local artists, from paintings and sculptures to handcrafted ceramics. Amico, in particular, was a strong advocate for the arts, hosting exhibitions and events that promoted local talent. The family's support extended beyond the visual arts, as they also collaborated with local musicians and performers, enriching the cultural experience at their establishments.\")\n",
      "16\n",
      "error\n",
      "nodes=[Node(id='Social causes', type='Cause'), Node(id='Each family member', type='Person'), Node(id='Culinary empire', type='Business'), Node(id='Caruso family', type='Family'), Node(id='Santa Caterina', type='Village'), Node(id='Caruso family legacy', type='Legacy'), Node(id='New York City', type='City')] relationships=[Relationship(source=Node(id='Caruso family', type='Family'), target=Node(id='Each family member', type='Person'), type='HAS_MEMBER'), Relationship(source=Node(id='Santa Caterina', type='Village'), target=Node(id='New York City', type='City'), type='LOCATED_IN'), Relationship(source=Node(id='Caruso family', type='Family'), target=Node(id='Each family member', type='Person'), type='HAS_MEMBER'), Relationship(source=Node(id='Santa Caterina', type='Village'), target=Node(id='New York City', type='City'), type='LOCATED_IN'), Relationship(source=Node(id='Caruso family', type='Family'), target=Node(id='Culinary empire', type='Business'), type='HAS_LEGACY'), Relationship(source=Node(id='Each family member', type='Person'), target=Node(id='Caruso family legacy', type='Legacy'), type='CONTRIBUTES_TO'), Relationship(source=Node(id='Caruso family', type='Family'), target=Node(id='Social causes', type='Cause'), type='IS_INVOLVED_IN')] source=Document(metadata={'source': 'C:\\\\Work\\\\Gazprom\\\\LLM\\\\neo4j\\\\dummytext.txt'}, page_content=\"Conclusion\\nThe Caruso family's story is a rich tapestry of love, tradition, and culinary excellence. From the picturesque village of Santa Caterina to the bustling streets of New York City, they have left an indelible mark on the culinary world. Each family member, with their unique background and talents, has contributed to the family's legacy, creating a culinary empire that spans continents. Their commitment to social causes and community involvement reflects their belief in the power of food to connect people and make a positive impact. The Caruso family's journey is a testament to the enduring power of tradition, innovation, and the joy of sharing good food with others.\")\n"
     ]
    }
   ],
   "source": [
    "for ind, gd in enumerate(graph_documents):\n",
    "    print(ind)\n",
    "    try:\n",
    "        gd.source.metadata['id']\n",
    "    except:\n",
    "        print('error')\n",
    "        print(gd)"
   ]
  },
  {
   "cell_type": "code",
   "execution_count": 34,
   "metadata": {},
   "outputs": [
    {
     "name": "stdout",
     "output_type": "stream",
     "text": [
      "{code: Neo.ClientError.Procedure.ProcedureCallFailed} {message: Failed to invoke procedure `apoc.create.addLabels`: Caused by: org.neo4j.internal.kernel.api.exceptions.schema.IllegalTokenNameException: '' is not a valid token name. Token names cannot be empty or contain any null-bytes.}\n"
     ]
    }
   ],
   "source": [
    "# graph.add_graph_documents(\n",
    "#     graph_documents,\n",
    "#     baseEntityLabel=True,\n",
    "#     include_source=True\n",
    "# )\n",
    "\n",
    "for gd in graph_documents:\n",
    "    try:\n",
    "        graph.add_graph_documents(\n",
    "            [gd],\n",
    "            baseEntityLabel=True,\n",
    "            include_source=True\n",
    "        )\n",
    "    except Exception as e:\n",
    "        print(e)"
   ]
  },
  {
   "cell_type": "code",
   "execution_count": 35,
   "metadata": {},
   "outputs": [
    {
     "data": {
      "application/vnd.jupyter.widget-view+json": {
       "model_id": "391bc4ff216a4e4196deca22ba3285f8",
       "version_major": 2,
       "version_minor": 0
      },
      "text/plain": [
       "GraphWidget(layout=Layout(height='800px', width='100%'))"
      ]
     },
     "metadata": {},
     "output_type": "display_data"
    }
   ],
   "source": [
    "def showGraph():\n",
    "    driver = GraphDatabase.driver(\n",
    "        uri = os.environ[\"NEO4J_URI\"],\n",
    "        auth = (os.environ[\"NEO4J_USERNAME\"],\n",
    "                os.environ[\"NEO4J_PASSWORD\"]))\n",
    "    session = driver.session()\n",
    "    widget = GraphWidget(graph = session.run(\"MATCH (s)-[r:!MENTIONS]->(t) RETURN s,r,t\").graph())\n",
    "    widget.node_label_mapping = 'id'\n",
    "    return widget\n",
    "\n",
    "showGraph()"
   ]
  },
  {
   "cell_type": "code",
   "execution_count": 30,
   "metadata": {},
   "outputs": [],
   "source": [
    "from docx_splitter import split_doc_from_headers\n",
    "\n",
    "documents1, _ = split_doc_from_headers(r'C:\\Work\\Gazprom\\LLM\\llmChat\\data\\original_docx\\cand.docx')\n",
    "documents2, _ = split_doc_from_headers(r'C:\\Work\\Gazprom\\LLM\\llmChat\\data\\original_docx\\avr.docx')\n",
    "documents3, _ = split_doc_from_headers(r'C:\\Work\\Gazprom\\LLM\\llmChat\\data\\original_docx\\event.docx')\n",
    "\n",
    "documents = documents1 + documents2 + documents3"
   ]
  },
  {
   "cell_type": "code",
   "execution_count": 31,
   "metadata": {},
   "outputs": [
    {
     "name": "stderr",
     "output_type": "stream",
     "text": [
      "  0%|          | 0/61 [00:00<?, ?it/s]"
     ]
    },
    {
     "name": "stdout",
     "output_type": "stream",
     "text": [
      "[{\"head\": \"кандидаты\", \"head_type\": \"Person/Company\", \"relation\": \"RELATED_TO\", \"tail\": \"форма\", \"tail_type\": \"Form\"}, {\"head\": \"форма\", \"head_type\": \"Form\", \"relation\": \"NEEDED_FOR\", \"tail\": \"отображение\", \"tail_type\": \"Action\"}]"
     ]
    },
    {
     "name": "stderr",
     "output_type": "stream",
     "text": [
      "  2%|▏         | 1/61 [00:07<07:00,  7.02s/it]"
     ]
    },
    {
     "name": "stdout",
     "output_type": "stream",
     "text": [
      "[{\"head\": \"кандидаты\", \"head_type\": \"Person\", \"relation\": \"HAS_SKILLS\", \"tail\": \"службы\", \"tail_type\": \"Service\"},{\"head\": \"службы\", \"head_type\": \"Service\", \"relation\": \"IS_RELATED_TO\", \"tail\": \"Бурение\", \"tail_type\": \"Drilling Service\"},{\"head\": \"службы\", \"head_type\": \"Service\", \"relation\": \"IS_RELATED_TO\", \"tail\": \"УДНГ\", \"tail_type\": \"Well Drilling Service\"},{\"head\": \"службы\", \"head_type\": \"Service\", \"relation\": \"IS_RELATED_TO\", \"tail\": \"Геология\", \"tail_type\": \"Geology Service\"},{\"head\": \"кандидаты\", \"head_type\": \"Person\", \"relation\": \"HAS_ACCESS_TO\", \"tail\": \"скважины\", \"tail_type\": \"Wells\"},{\"head\": \"скважины\", \"head_type\": \"Wells\", \"relation\": \"HAVE_CONDITIONS\", \"tail\": \"нефтяные/газовые/нагнетательные\", \"tail_type\": \"Well Conditions\"}]"
     ]
    },
    {
     "name": "stderr",
     "output_type": "stream",
     "text": [
      "  3%|▎         | 2/61 [00:13<06:41,  6.81s/it]"
     ]
    },
    {
     "name": "stdout",
     "output_type": "stream",
     "text": [
      "[{\"head\": \"фильтры\", \"head_type\": \"Feature\", \"relation\": \"USED_FOR\", \"tail\": \"отображение табличных данных и фильтрации списка\", \"tail_type\": \"Function\"}, {\"head\": \"фильтры\", \"head_type\": \"Feature\", \"relation\": \"APPLY_TO\", \"tail\": \"все группы сразу\", \"tail_type\": \"Group\"}, {\"head\": \"фильтры\", \"head_type\": \"Feature\", \"relation\": \"SHOW_IN\", \"tail\": \"низу таблицы отображается общее количество скважин кандидатов\", \"tail_type\": \"Information\"}, {\"head\": \"фильтры\", \"head_type\": \"Feature\", \"relation\": \"USED_FOR\", \"tail\": \"поиск кандидата за последние 3 месяца\", \"tail_type\": \"Function\"}, {\"head\": \"поиск кандидата за последние 3 месяца\", \"head_type\": \"Function\", \"relation\": \"SEARCH_BY\", \"tail\": \"название скважины начинается с введённого текста (с учётом регистра)\", \"tail_type\": \"Condition\"}, {\"head\": \"поиск кандидата за последние 3 месяца\", \"head_type\": \"Function\", \"relation\": \"SEARCH_BY\", \"tail\": \"скважина относится к Дочернему Обществу пользователя\", \"tail_type\": \"Condition\"}, {\"head\": \"поиск кандидата за последние 3 месяца\", \"head_type\": \"Function\", \"relation\": \"SEARCH_BY\", \"tail\": \"скважина не отменена и не удалена\", \"tail_type\": \"Condition\"}, {\"head\": \"поиск кандидата за последние 3 месяца\", \"head_type\": \"Function\", \"relation\": \"SEARCH_BY\", \"tail\": \"состояние скважины - в работе, если состояние скважины «закрыта», то выводятся скважины не ранее текущего месяца\", \"tail_type\": \"Condition\"}, {\"head\": \"поиск кандидата за последние 3 месяца\", \"head_type\": \"Function\", \"relation\": \"SEARCH_BY\", \"tail\": \"скважина является кандидатом (не включена в график мероприятий)\", \"tail_type\": \"Condition\"}, {\"head\": \"быстрый поиск по всем столбцам\", \"head_type\": \"Feature\", \"relation\": \"USED_FOR\", \"tail\": \"поиск по всем данным в таблице\", \"tail_type\": \"Function\"}, {\"head\": \"быстрый поиск по всем столбцам\", \"head_type\": \"Feature\", \"relation\": \"SEARCH_IN\", \"tail\": \"все столбцы в левой верхней части экрана поле ввода «Поиск по всем столбцам»\", \"tail_type\": \"Information\"}, {\"head\": \"быстрый поиск по всем столбцам\", \"head_type\": \"Feature\", \"relation\": \"RESET_BY\", \"tail\": \"сбросить фильтр «быстрого поиска» можно очистить поле ввода или нажать на кнопку «Сбросить все фильтры» в правой части экрана\", \"tail_type\": \"Action\"}, {\"head\": \"функция сброса фильтров\", \"head_type\": \"Function\", \"relation\": \"RESET_ALL\", \"tail\": \"сбросить фильтры сразу со всех столбцов, а также очистить быстрый поиск и сбросить фильтр «Все/Завершенные/Незавершенные» - можно нажать на кнопку «Сбросить все фильтры».\", \"tail_type\": \"Action\"}]"
     ]
    },
    {
     "name": "stderr",
     "output_type": "stream",
     "text": [
      "  5%|▍         | 3/61 [00:33<12:30, 12.94s/it]"
     ]
    },
    {
     "name": "stdout",
     "output_type": "stream",
     "text": [
      "[{\"head\": \"Кандидаты\", \"head_type\": \"Table\", \"relation\": \"HAS_COLUMNS\", \"tail\": \"Столбцы\", \"tail_type\": \"Columns\"}, {\"head\": \"Столбцы\", \"head_type\": \"Columns\", \"relation\": \"CAN_BE_SORTED\", \"tail\": \"Кандидаты\", \"tail_type\": \"Table\"}, {\"head\": \"Дата сдачи в освоение – Факт ИС СМБ\", \"head_type\": \"Column\", \"relation\": \"DEFAULT_SORTING_COLUMN\", \"tail\": \"Кандидаты\", \"tail_type\": \"Table\"}, {\"head\": \"Дата создания\", \"head_type\": \"Column\", \"relation\": \"SORTING_COLUMN\", \"tail\": \"Кандидаты\", \"tail_type\": \"Table\"}, {\"head\": \"Столбцы\", \"head_type\": \"Columns\", \"relation\": \"CAN_BE_SORTED_MULTIPLE\", \"tail\": \"Кандидаты\", \"tail_type\": \"Table\"}, {\"head\": \"Название столбца\", \"head_type\": \"Column\", \"relation\": \"SORTING_COLUMN_CLICKABLE\", \"tail\": \"Кандидаты\", \"tail_type\": \"Table\"}, {\"head\": \"Меню\", \"head_type\": \"Menu\", \"relation\": \"RESET_SORTING\", \"tail\": \"Столбцы\", \"tail_type\": \"Columns\"}]"
     ]
    },
    {
     "name": "stderr",
     "output_type": "stream",
     "text": [
      "  7%|▋         | 4/61 [00:42<10:44, 11.30s/it]"
     ]
    },
    {
     "name": "stdout",
     "output_type": "stream",
     "text": [
      "[{\"head\": \"столбец\", \"head_type\": \"Column\", \"relation\": \"HAS_FEATURE\", \"tail\": \"меню\", \"tail_type\": \"Menu\"},{\"head\": \"текст\", \"head_type\": \"Text\", \"relation\": \"IS_DISPLAYED_IN\", \"tail\": \"столбце\", \"tail_type\": \"Column\"},{\"head\": \"стрелка\", \"head_type\": \"Button\", \"relation\": \"CONTROLS\", \"tail\": \"свернуть левую фиксированную часть\", \"tail_type\": \"Feature\"},{\"head\": \"заголовок столбца\", \"head_type\": \"Column Header\", \"relation\": \"HAS_MENU\", \"tail\": \"меню\", \"tail_type\": \"Menu\"},{\"head\": \"разделитель заголовка столбца\", \"head_type\": \"Separator\", \"relation\": \"CONTROLS\", \"tail\": \"автоматически задавать размер этой колонки\", \"tail_type\": \"Feature\"},{\"head\": \"меню\", \"head_type\": \"Menu\", \"relation\": \"HAS_FEATURE\", \"tail\": \"автоматически задавать размер этой колонки\", \"tail_type\": \"Feature\"}]"
     ]
    },
    {
     "name": "stderr",
     "output_type": "stream",
     "text": [
      "  8%|▊         | 5/61 [00:50<09:20, 10.01s/it]"
     ]
    },
    {
     "name": "stdout",
     "output_type": "stream",
     "text": [
      "[{\"head\": \"скважина\", \"head_type\": \"Well\", \"relation\": \"HAS_HISTORY\", \"tail\": \"история изменений\", \"tail_type\": \"Event\"}, {\"head\": \"скважина\", \"head_type\": \"Well\", \"relation\": \"IS_PART_OF\", \"tail\": \"мероприятия\", \"tail_type\": \"Event\"}, {\"head\": \"мероприятия\", \"head_type\": \"Event\", \"relation\": \"HAS_HISTORY\", \"tail\": \"история изменений мероприятий\", \"tail_type\": \"Event\"}, {\"head\": \"мероприятия\", \"head_type\": \"Event\", \"relation\": \"IS_PART_OF\", \"tail\": \"таблица кандидатов\", \"tail_type\": \"Table\"}, {\"head\": \"мероприятия\", \"head_type\": \"Event\", \"relation\": \"HAS_WORKS\", \"tail\": \"работы в мероприятии\", \"tail_type\": \"Work\"}]"
     ]
    },
    {
     "name": "stderr",
     "output_type": "stream",
     "text": [
      " 10%|▉         | 6/61 [00:56<07:58,  8.70s/it]"
     ]
    },
    {
     "name": "stdout",
     "output_type": "stream",
     "text": [
      "[{\"head\": \"дата\", \"head_type\": \"Date\", \"relation\": \"SHOWS_DATA\", \"tail\": \"табличные данные\", \"tail_type\": \"Table\"}, {\"head\": \"кнопки\", \"head_type\": \"Button\", \"relation\": \"USED_FOR\", \"tail\": \"переключение месяца и года отображения данных\", \"tail_type\": \"Action\"}]"
     ]
    },
    {
     "name": "stderr",
     "output_type": "stream",
     "text": [
      " 11%|█▏        | 7/61 [01:00<06:23,  7.10s/it]"
     ]
    },
    {
     "name": "stdout",
     "output_type": "stream",
     "text": [
      "[{\"head\": \"скважина\", \"head_type\": \"Skvazhina\", \"relation\": \"HAS_CHARACTERISTIC\", \"tail\": \"новая скважина\", \"tail_type\": \"Characteristic\"},{\"head\": \"скважина\", \"head_type\": \"Skvazhina\", \"relation\": \"CAN_BE_EDITED\", \"tail\": \"редактировать\", \"tail_type\": \"Action\"},{\"head\": \"скважина\", \"head_type\": \"Skvazhina\", \"relation\": \"CAN_BE_DELETED\", \"tail\": \"удалить\", \"tail_type\": \"Action\"},{\"head\": \"новая скважина\", \"head_type\": \"New Skvazhina\", \"relation\": \"IS_CREATED_BY\", \"tail\": \"панель добавления скважины в кандидаты\", \"tail_type\": \"Tool\"},{\"head\": \"новая скважина\", \"head_type\": \"New Skvazhina\", \"relation\": \"HAS_STEP\", \"tail\": \"открыть панель добавления скважины в кандидаты\", \"tail_type\": \"Step\"},{\"head\": \"новая скважина\", \"head_type\": \"New Skvazhina\", \"relation\": \"HAS_STEP\", \"tail\": \"нажать на кнопку создать новую\", \"tail_type\": \"Step\"},{\"head\": \"новая скважина\", \"head_type\": \"New Skvazhina\", \"relation\": \"HAS_STEP\", \"tail\": \"открыть окно для создания новой скважины\", \"tail_type\": \"Step\"},{\"head\": \"новая скважина\", \"head_type\": \"New Skvazhina\", \"relation\": \"HAS_CHARACTERISTIC\", \"tail\": \"редактировать цеха\", \"tail_type\": \"Characteristic\"},{\"head\": \"новая скважина\", \"head_type\": \"New Skvazhina\", \"relation\": \"CAN_BE_DELETED\", \"tail\": \"удалить запись\", \"tail_type\": \"Action\"},{\"head\": \"месторождение\", \"head_type\": \"Mestorozhdenie\", \"relation\": \"IS_EDITED_BY\", \"tail\": \"редактировать месторождения\", \"tail_type\": \"Tool\"},{\"head\": \"месторождение\", \"head_type\": \"Mestorozhdenie\", \"relation\": \"HAS_STEP\", \"tail\": \"нажать на кнопку редактировать месторождения\", \"tail_type\": \"Step\"},{\"head\": \"месторождение\", \"head_type\": \"Mestorozhdenie\", \"relation\": \"HAS_CHARACTERISTIC\", \"tail\": \"имя месторождения\", \"tail_type\": \"Characteristic\"},{\"head\": \"куст\", \"head_type\": \"Kust\", \"relation\": \"IS_EDITED_BY\", \"tail\": \"редактировать кусты\", \"tail_type\": \"Tool\"},{\"head\": \"куст\", \"head_type\": \"Kust\", \"relation\": \"HAS_STEP\", \"tail\": \"нажать на кнопку редактировать кусты\", \"tail_type\": \"Step\"},{\"head\": \"куст\", \"head_type\": \"Kust\", \"relation\": \"HAS_CHARACTERISTIC\", \"tail\": \"имя куста\", \"tail_type\": \"Characteristic\"}]"
     ]
    },
    {
     "name": "stderr",
     "output_type": "stream",
     "text": [
      " 13%|█▎        | 8/61 [01:18<09:18, 10.54s/it]"
     ]
    },
    {
     "name": "stdout",
     "output_type": "stream",
     "text": [
      "Вот перечень действий для заполнения данных по скважине:\n",
      "\n",
      "1. **Локация**: введите адрес или описание месторождения, где находится скважина.\n",
      "\n",
      "2. **Планируемая движка**: выберите тип и мощность двигателя, который будет использоваться при бурении скважины.\n",
      "\n",
      "3. **Пласт после ГТМ**: указайте пласт, через который пройдет скважина после завершения геологоразведочных работ (ГРП).\n",
      "\n",
      "4. **Количество стадий ГРП**: введите количество этапов, которые будут выполнены при геологоразведочных работах.\n",
      "\n",
      "5. **Пласт ГРП**: указайте пласт, который будет исследован при геологоразведочных работах.\n",
      "\n",
      "6. **Тоннаж ГРП**: введите объем нефти или газа, который ожидается получить при геологоразведочных работах.\n",
      "\n",
      "7. **Поочередная перфорация**: выберите тип и расположение перфорационных отверстий, если это применимо к скважине.\n",
      "\n",
      "8. **Планируемое погружное оборудование**: выберите тип и характеристики погружного оборудования, которое будет использоваться при бурении скважины.\n",
      "\n",
      "9. **Примечание**: введите любые дополнительные комментарии или пояснения по скважине.\n",
      "\n",
      "10. **План работ**: запланируйте этапы работы по скважине, включая ВНР и другие мероприятия.\n",
      "\n",
      "11. **Остановочные параметры**:\n",
      "    - **Qг, м3**: введите значение объема газа или нефти, который будет выкачен при остановке скважины.\n",
      "    - **Qгк, тн**: введите значение объема нефти или газа, который будет выкачен при остановке скважины.\n",
      "\n",
      "12. **Ожидаемые запускные параметры**:\n",
      "    - **Qж, Qн**: введите значения объема газа и нефти, которые ожидается получить при запуске скважины.\n",
      "    - **Qпнг**: введите значение объема газа или нефти, который будет выкачен при запуске скважины.\n",
      "    - **Обвод**: введите значение объема обводнения, которое будет использовано при запуске скважины.\n",
      "    - **Pзаб/атм, Vзак (для нагнетательных), Pзак (для нагнетательных)**: введите значения давления и объема газа или нефти, которые будут использованы при запуске скважины.\n",
      "\n",
      "13. **Ожидаемый эффект**:\n",
      "    - **Qг, м3/сут**: введите значение объема газа или нефти, который ожидается получить в сутки.\n",
      "    - **Qгк, тн/сут**: введите значение объема нефти или газа, который ожидается получить в сутки.\n",
      "\n",
      "14. **Фактическая дата ВНР** и **Фактическая дата запуска**: эти поля заполняются автоматически на основе данных из формы «График мероприятий».\n",
      "\n",
      "15. **План ВНР**: запланируйте этапы работы по скважине, включая ВНР и другие мероприятия.\n",
      "\n",
      "После заполнения всех необходимых полей система будет готова к работе с данными по скважине."
     ]
    },
    {
     "name": "stderr",
     "output_type": "stream",
     "text": [
      " 15%|█▍        | 9/61 [01:35<11:04, 12.78s/it]"
     ]
    },
    {
     "name": "stdout",
     "output_type": "stream",
     "text": [
      "[{\"head\": \"скважину-кандидата\", \"head_type\": \"Person\", \"relation\": \"ADDED_TO_EVENT_GRAPH\", \"tail\": \"график мероприятий\", \"tail_type\": \"Event\"}, {\"head\": \"флаг\", \"head_type\": \"Flag\", \"relation\": \"REQUIRED_FOR_ADDITION\", \"tail\": \"скважину-кандидата\", \"tail_type\": \"Person\"}, {\"head\": \"поле\", \"head_type\": \"Field\", \"relation\": \"CONTAINS_FLAG\", \"tail\": \"флаг\", \"tail_type\": \"Flag\"}, {\"head\": \"иконка в виде скважины и плюса\", \"head_type\": \"Icon\", \"relation\": \"DISPLAYED_IN_FIELD\", \"tail\": \"поле\", \"tail_type\": \"Field\"}]"
     ]
    },
    {
     "name": "stderr",
     "output_type": "stream",
     "text": [
      " 16%|█▋        | 10/61 [01:42<09:06, 10.72s/it]"
     ]
    },
    {
     "name": "stdout",
     "output_type": "stream",
     "text": [
      "[{\"head\": \"скважина\", \"head_type\": \"Person\", \"relation\": \"HAS_CHARACTERISTIC\", \"tail\": \"красный крест\", \"tail_type\": \"Characteristic\"}, {\"head\": \"скважина\", \"head_type\": \"Person\", \"relation\": \"IS_REMOVED_BY\", \"tail\": \"модальное окно «Удаление кандидата»\", \"tail_type\": \"Event\"}, {\"head\": \"скважина\", \"head_type\": \"Person\", \"relation\": \"IS_REMOVED_BY\", \"tail\": \"кнопка «Да»\", \"tail_type\": \"Action\"}, {\"head\": \"скважина\", \"head_type\": \"Person\", \"relation\": \"IS_REMOVED_FROM_LIST\", \"tail\": \"список скважин-кандидатов\", \"tail_type\": \"List\"}, {\"head\": \"кнопка удаления\", \"head_type\": \"Object\", \"relation\": \"IS_DISABLED_BY\", \"tail\": \"скважина добавлена автоматически из смежной системы\", \"tail_type\": \"Event\"}, {\"head\": \"кнопка удаления\", \"head_type\": \"Object\", \"relation\": \"IS_DISABLED_BY\", \"tail\": \"флаг добавления в график мероприятий\", \"tail_type\": \"Flag\"}, {\"head\": \"скважина\", \"head_type\": \"Person\", \"relation\": \"HAS_CHARACTERISTIC\", \"tail\": \"автоматически из смежной системы\", \"tail_type\": \"Characteristic\"}]"
     ]
    },
    {
     "name": "stderr",
     "output_type": "stream",
     "text": [
      " 18%|█▊        | 11/61 [01:50<08:22, 10.05s/it]"
     ]
    },
    {
     "name": "stdout",
     "output_type": "stream",
     "text": [
      "[{\"head\": \"СМБ\", \"head_type\": \"Company\", \"relation\": \"RELATED_TO\", \"tail\": \"Импорт из ИС СМБ\", \"tail_type\": \"Process\"},{\"head\": \"Импорт из ИС СМБ\", \"head_type\": \"Process\", \"relation\": \"REQUIRES_ACTION\", \"tail\": \"нажать на надпись «Импорт с СМБ» в шапке раздела\", \"tail_type\": \"Action\"},{\"head\": \"Импорт из ИС СМБ\", \"head_type\": \"Process\", \"relation\": \"CAN_BE_CANCELLED\", \"tail\": \"отменить отключение, нажав на соответствующую кнопку\", \"tail_type\": \"Action\"}]"
     ]
    },
    {
     "name": "stderr",
     "output_type": "stream",
     "text": [
      " 20%|█▉        | 12/61 [01:56<07:03,  8.64s/it]"
     ]
    },
    {
     "name": "stdout",
     "output_type": "stream",
     "text": [
      "[{\"head\": \"ИС МехФонд\", \"head_type\": \"Organization\", \"relation\": \"RELATED_TO\", \"tail\": \"Импорт из ИС МехФонд\", \"tail_type\": \"Process\"}, {\"head\": \"ИС МехФонд\", \"head_type\": \"Organization\", \"relation\": \"HAS_WINDOW\", \"tail\": \"\"Кандидаты из ИС МехФонд\"\", \"tail_type\": \"Window\"}, {\"head\": \"ИС МехФонд\", \"head_type\": \"Organization\", \"relation\": \"NEEDS_BUTTON_CLICK\", \"tail\": \"\", \"tail_type\": \"Button\"}, {\"head\": \"ИС МехФонд\", \"head_type\": \"Organization\", \"relation\": \"NEEDS_BUTTON_CLICK\", \"tail\": \"\", \"tail_type\": \"Button\"}, {\"head\": \"окно\", \"head_type\": \"Window\", \"relation\": \"HAS_TITLE\", \"tail\": \"\"Кандидаты из ИС МехФонд\"\", \"tail_type\": \"Title\"}]"
     ]
    },
    {
     "name": "stderr",
     "output_type": "stream",
     "text": [
      " 21%|██▏       | 13/61 [02:02<06:26,  8.05s/it]"
     ]
    },
    {
     "name": "stdout",
     "output_type": "stream",
     "text": [
      "[{\"head\": \"Текущие отказы\", \"head_type\": \"Feature\", \"relation\": \"NEEDS_TO_BE_ADDED\", \"tail\": \"скважину\", \"tail_type\": \"Drilling Project\"}, {\"head\": \"скважину\", \"head_type\": \"Drilling Project\", \"relation\": \"CAN_BE_FOUND_BY_SEARCHING\", \"tail\": \"поиск\", \"tail_type\": \"Search Function\"}, {\"head\": \"скважину\", \"head_type\": \"Drilling Project\", \"relation\": \"NEEDS_TO_BE_CONFIRMED\", \"tail\": \"кнопку в виде зеленого плюса\", \"tail_type\": \"Button\"}, {\"head\": \"кнопку в виде зеленого плюса\", \"head_type\": \"Button\", \"relation\": \"OPENS_WINDOW_FOR_ADDING\", \"tail\": \"всплывающее окно для уточнения действий добавления\", \"tail_type\": \"Window\"}, {\"head\": \"всплывающее окно для уточнения действий добавления\", \"head_type\": \"Window\", \"relation\": \"NEEDS_TO_BE_CONFIRMED_AGAIN\", \"tail\": \"кнопку «Да»\", \"tail_type\": \"Button\"}, {\"head\": \"кнопку «Да»\", \"head_type\": \"Button\", \"relation\": \"OPENS_WINDOW_FOR_CHOOSING_EVENT\", \"tail\": \"окно «Выбор мероприятия»\", \"tail_type\": \"Window\"}, {\"head\": \"окно «Выбор мероприятия»\", \"head_type\": \"Window\", \"relation\": \"NEEDS_TO_BE_FILLED_IN\", \"tail\": \"группа мероприятия; тип ремонта; вид мероприятия; цель мероприятия\", \"tail_type\": \"Event Details\"}, {\"head\": \"группа мероприятия; тип ремонта; вид мероприятия; цель мероприятия\", \"head_type\": \"Event Details\", \"relation\": \"CAN_BE_SELECTED_IN_WINDOW\", \"tail\": \"окно «Выбор мероприятия»\", \"tail_type\": \"Window\"}, {\"head\": \"окно «Выбор мероприятия»\", \"head_type\": \"Window\", \"relation\": \"NEEDS_TO_BE_SAVED\", \"tail\": \"кнопку «Сохранить»\", \"tail_type\": \"Button\"}]"
     ]
    },
    {
     "name": "stderr",
     "output_type": "stream",
     "text": [
      " 23%|██▎       | 14/61 [02:14<07:11,  9.19s/it]"
     ]
    },
    {
     "name": "stdout",
     "output_type": "stream",
     "text": [
      "[{\"head\": \"PI\", \"head_type\": \"Index\", \"relation\": \"CALCULATED_BY\", \"tail\": \"System USOI\", \"tail_type\": \"System\"}, {\"head\": \"PI\", \"head_type\": \"Index\", \"relation\": \"DISPLAYED_IN\", \"tail\": \"Form\", \"tail_type\": \"Form\"}, {\"head\": \"PI\", \"head_type\": \"Index\", \"relation\": \"COMPARED_TO\", \"tail\": \"1.15\", \"tail_type\": \"Threshold\"}, {\"head\": \"PI\", \"head_type\": \"Index\", \"relation\": \"DISPLAYED_AS\", \"tail\": \"Red color\", \"tail_type\": \"Color\"}, {\"head\": \"PI\", \"head_type\": \"Index\", \"relation\": \"INDICATES\", \"tail\": \"Insufficient data\", \"tail_type\": \"Status\"}, {\"head\": \"PI\", \"head_type\": \"Index\", \"relation\": \"DISPLAYED_AS\", \"tail\": \"!\", \"tail_type\": \"Symbol\"}, {\"head\": \"PI\", \"head_type\": \"Index\", \"relation\": \"INDICATES\", \"tail\": \"Pezometic well\", \"tail_type\": \"Type\"}, {\"head\": \"Form\", \"head_type\": \"Form\", \"relation\": \"CONTAINS\", \"tail\": \"Column with PI value\", \"tail_type\": \"Column\"}, {\"head\": \"System USOI\", \"head_type\": \"System\", \"relation\": \"PROVIDES_DATA_FOR\", \"tail\": \"PI calculation\", \"tail_type\": \"Calculation\"}, {\"head\": \"Report PPDN-3\", \"head_type\": \"Report\", \"relation\": \"USED_IN\", \"tail\": \"PI calculation\", \"tail_type\": \"Calculation\"}]"
     ]
    },
    {
     "name": "stderr",
     "output_type": "stream",
     "text": [
      " 25%|██▍       | 15/61 [02:25<07:30,  9.80s/it]"
     ]
    },
    {
     "name": "stdout",
     "output_type": "stream",
     "text": [
      "[{\"head\": \"кандидата\", \"head_type\": \"Person\", \"relation\": \"EDITED_BY\", \"tail\": \"другой пользователь\", \"tail_type\": \"User\"},{\"head\": \"мероприятия\", \"head_type\": \"Event\", \"relation\": \"EDITED_BY\", \"tail\": \"другой пользователь\", \"tail_type\": \"User\"},{\"head\": \"кандидата\", \"head_type\": \"Person\", \"relation\": \"BEING_EDITED\", \"tail\": \"другой пользователь\", \"tail_type\": \"User\"},{\"head\": \"мероприятия\", \"head_type\": \"Event\", \"relation\": \"BEING_EDITED\", \"tail\": \"другой пользователь\", \"tail_type\": \"User\"},{\"head\": \"кандидата\", \"head_type\": \"Person\", \"relation\": \"EDITED_BY\", \"tail\": \"пользователь\", \"tail_type\": \"User\"}]"
     ]
    },
    {
     "name": "stderr",
     "output_type": "stream",
     "text": [
      " 26%|██▌       | 16/61 [02:32<06:41,  8.92s/it]"
     ]
    },
    {
     "name": "stdout",
     "output_type": "stream",
     "text": [
      "[{\"head\": \"Кандидата\", \"head_type\": \"Person\", \"relation\": \"EDITED_BY\", \"tail\": \"текущий пользователь\", \"tail_type\": \"User\"},{\"head\": \"текущий пользователь\", \"head_type\": \"User\", \"relation\": \"SAVED_CHANGES_TO\", \"tail\": \"страница\", \"tail_type\": \"Page\"},{\"head\": \"текущий пользователь\", \"head_type\": \"User\", \"relation\": \"BLOCKED_ACCESS_TO\", \"tail\": \"скважину кандидат\", \"tail_type\": \"Person\"},{\"head\": \"скважину кандидат\", \"head_type\": \"Person\", \"relation\": \"BLOCKED_BY\", \"tail\": \"текущий пользователь\", \"tail_type\": \"User\"},{\"head\": \"текущий пользователь\", \"head_type\": \"User\", \"relation\": \"UNBLOCKED_ACCESS_TO\", \"tail\": \"скважину кандидат\", \"tail_type\": \"Person\"}]"
     ]
    },
    {
     "name": "stderr",
     "output_type": "stream",
     "text": [
      " 28%|██▊       | 17/61 [02:39<06:00,  8.20s/it]"
     ]
    },
    {
     "name": "stdout",
     "output_type": "stream",
     "text": [
      "[{\"head\": \"Уведомления об изменении списка кандидатов\", \"head_type\": \"Text\", \"relation\": \"DESCRIBES\", \"tail\": \"Скважина кандидата\", \"tail_type\": \"Candidate\"}, {\"head\": \"Скважина кандидата\", \"head_type\": \"Candidate\", \"relation\": \"NEEDS_UPDATE\", \"tail\": \"Страница\", \"tail_type\": \"Page\"}, {\"head\": \"Скважина кандидата\", \"head_type\": \"Candidate\", \"relation\": \"IS_DELETED\", \"tail\": \"Кандидат\", \"tail_type\": \"Person\"}, {\"head\": \"Уведомление об изменении кандидата\", \"head_type\": \"Notification\", \"relation\": \"TRIGGERS_UPDATE\", \"tail\": \"Скважина кандидата\", \"tail_type\": \"Candidate\"}, {\"head\": \"Скважина кандидата\", \"head_type\": \"Candidate\", \"relation\": \"IS_UPDATED\", \"tail\": \"Страница\", \"tail_type\": \"Page\"}, {\"head\": \"Уведомление об изменении кандидата\", \"head_type\": \"Notification\", \"relation\": \"TRIGGERS_UPDATE\", \"tail\": \"Скважина кандидата\", \"tail_type\": \"Candidate\"}, {\"head\": \"Скважина кандидата\", \"head_type\": \"Candidate\", \"relation\": \"IS_UPDATED\", \"tail\": \"Страница\", \"tail_type\": \"Page\"}, {\"head\": \"Уведомление об изменении списка кандидатов\", \"head_type\": \"Text\", \"relation\": \"DESCRIBES\", \"tail\": \"Скважина кандидата\", \"tail_type\": \"Candidate\"}]"
     ]
    },
    {
     "name": "stderr",
     "output_type": "stream",
     "text": [
      " 30%|██▉       | 18/61 [02:50<06:26,  9.00s/it]"
     ]
    },
    {
     "name": "stdout",
     "output_type": "stream",
     "text": [
      "[{\"text\": \"None\", \"head\": \"None\", \"head_type\": \"\", \"relation\": \"\", \"tail\": \"None\", \"tail_type\": \"\"}]"
     ]
    },
    {
     "name": "stderr",
     "output_type": "stream",
     "text": [
      " 31%|███       | 19/61 [02:53<05:09,  7.37s/it]"
     ]
    },
    {
     "name": "stdout",
     "output_type": "stream",
     "text": [
      "[{\"head\": \"Система\", \"head_type\": \"System\", \"relation\": \"AUTOMATES\", \"tail\": \"учетные, инженерные и системные задачи\", \"tail_type\": \"Tasks\"}, {\"head\": \"Система\", \"head_type\": \"System\", \"relation\": \"SUPPORTS\", \"tail\": \"процессы планирования, учета и контроля выполнения ремонтов скважин\", \"tail_type\": \"Processes\"}, {\"head\": \"Система\", \"head_type\": \"System\", \"relation\": \"AUTOMATES\", \"tail\": \"оперативное планирование текущего и капитального ремонтов скважин (ТКРС)\", \"tail_type\": \"Task\"}, {\"head\": \"Система\", \"head_type\": \"System\", \"relation\": \"AUTOMATES\", \"tail\": \"учет результатов ТКРС\", \"tail_type\": \"Task\"}, {\"head\": \"Система\", \"head_type\": \"System\", \"relation\": \"AUTOMATES\", \"tail\": \"контроль результатов ТКРС\", \"tail_type\": \"Task\"}, {\"head\": \"Система\", \"head_type\": \"System\", \"relation\": \"AUTOMATES\", \"tail\": \"анализ результатов ТКРС\", \"tail_type\": \"Task\"}, {\"head\": \"Система\", \"head_type\": \"System\", \"relation\": \"COVERS\", \"tail\": \"жизненный цикл ТКРС\", \"tail_type\": \"Lifecycle\"}, {\"head\": \"Система\", \"head_type\": \"System\", \"relation\": \"RESOLVES\", \"tail\": \"организация единого хранилища информации по текущим и капитальным ремонтам скважин, и сервисным ресурсам\", \"tail_type\": \"Problem\"}, {\"head\": \"Система\", \"head_type\": \"System\", \"relation\": \"RESOLVES\", \"tail\": \"информационное обеспечение процессов планирования, контроля и анализа сервисных услуг ТКРС\", \"tail_type\": \"Problem\"}, {\"head\": \"Система\", \"head_type\": \"System\", \"relation\": \"RESOLVES\", \"tail\": \"обеспечение оперативности мониторинга ремонтов скважин, ремонтных операций бригад\", \"tail_type\": \"Problem\"}, {\"head\": \"Система\", \"head_type\": \"System\", \"relation\": \"RESOLVES\", \"tail\": \"предоставление регламентной и оперативной отчетности, в рамках услуг ТКРС\", \"tail_type\": \"Problem\"}]"
     ]
    },
    {
     "name": "stderr",
     "output_type": "stream",
     "text": [
      " 33%|███▎      | 20/61 [03:06<06:15,  9.15s/it]"
     ]
    },
    {
     "name": "stdout",
     "output_type": "stream",
     "text": [
      "[{\"head\": \"автоматизированное рабочее место пользователя\", \"head_type\": \"Device\", \"relation\": \"HAS_CHARACTERISTIC\", \"tail\": \"минимальные характеристики\", \"tail_type\": \"Characteristic\"},{\"head\": \"автоматизированное рабочее место пользователя\", \"head_type\": \"Device\", \"relation\": \"CONNECTED_TO\", \"tail\": \"Системы, подключаемого напрямую\", \"tail_type\": \"System\"},{\"head\": \"минимальные характеристики\", \"head_type\": \"Characteristic\", \"relation\": \"LISTED_IN\", \"tail\": \"Таблица 1\", \"tail_type\": \"Table\"}]"
     ]
    },
    {
     "name": "stderr",
     "output_type": "stream",
     "text": [
      " 34%|███▍      | 21/61 [03:11<05:11,  7.80s/it]"
     ]
    },
    {
     "name": "stdout",
     "output_type": "stream",
     "text": [
      "[{\"head\": \"Персонал\", \"head_type\": \"Personnel\", \"relation\": \"REQUIRES\", \"tail\": \"пользовательские навыки в работе с ПК\", \"tail_type\": \"Skill\"},{\"head\": \"Персонал\", \"head_type\": \"Personnel\", \"relation\": \"REQUIRES\", \"tail\": \"пользовательские навыки в работе с графическим интерфейсом операционной системы (MS Windows)\", \"tail_type\": \"Skill\"},{\"head\": \"Персонал\", \"head_type\": \"Personnel\", \"relation\": \"REQUIRES\", \"tail\": \"пользовательские навыки в работе с пакетом MS Office\", \"tail_type\": \"Skill\"},{\"head\": \"Персонал\", \"head_type\": \"Personnel\", \"relation\": \"REQUIRES\", \"tail\": \"обладать профессиональными познаниями в геологии, технологии, бурении и в добычи нефти\", \"tail_type\": \"Knowledge\"},{\"head\": \"Персонал\", \"head_type\": \"Personnel\", \"relation\": \"REQUIRES\", \"tail\": \"III квалификационная группа по электробезопасности\", \"tail_type\": \"Certification\"},{\"head\": \"Персонал\", \"head_type\": \"Personnel\", \"relation\": \"SHOULD_KNOW\", \"tail\": \"настоящая методика\", \"tail_type\": \"Procedure\"},{\"head\": \"Персонал\", \"head_type\": \"Personnel\", \"relation\": \"SHOULD_KNOW\", \"tail\": \"стандарты компании в области ТиКРС по части формирования «Графика КРС\\\"\", \"tail_type\": \"Standard\"}]"
     ]
    },
    {
     "name": "stderr",
     "output_type": "stream",
     "text": [
      " 36%|███▌      | 22/61 [03:21<05:29,  8.44s/it]"
     ]
    },
    {
     "name": "stdout",
     "output_type": "stream",
     "text": [
      "[{\"head\": \"Windows 10\", \"head_type\": \"Operating System\", \"relation\": \"REQUIRES\", \"tail\": \"Microsoft Edge or Google Chrome\", \"tail_type\": \"Browser\"}]"
     ]
    },
    {
     "name": "stderr",
     "output_type": "stream",
     "text": [
      " 38%|███▊      | 23/61 [03:24<04:18,  6.81s/it]"
     ]
    },
    {
     "name": "stdout",
     "output_type": "stream",
     "text": [
      "[{\"head\": \"Пользователю\", \"head_type\": \"Person\", \"relation\": \"USES\", \"tail\": \"Информационная система «Эра-Ремонты»\", \"tail_type\": \"System\"}, {\"head\": \"Пользователю\", \"head_type\": \"Person\", \"relation\": \"HAS_ACCESS_TO\", \"tail\": \"функциональные формы модуля «Пооперационный план работ»\", \"tail_type\": \"Module\"}, {\"head\": \"Приложение\", \"head_type\": \"Application\", \"relation\": \"DETERMINES_PERMISSIONS_FOR\", \"tail\": \"Пользователю\", \"tail_type\": \"Person\"}, {\"head\": \"Администратор\", \"head_type\": \"Person\", \"relation\": \"GRANTS_ACCESS_TO\", \"tail\": \"функциональные формы модуля «Пооперационный план работ»\", \"tail_type\": \"Module\"}]"
     ]
    },
    {
     "name": "stderr",
     "output_type": "stream",
     "text": [
      " 39%|███▉      | 24/61 [03:30<04:00,  6.50s/it]"
     ]
    },
    {
     "name": "stdout",
     "output_type": "stream",
     "text": [
      "[{\"head\": \"Microsoft Edge\", \"head_type\": \"Browser\", \"relation\": \"NEEDED_TO_START\", \"tail\": \"Application ERA-Remonty\", \"tail_type\": \"Software\"}, {\"head\": \"Application ERA-Remonty\", \"head_type\": \"Software\", \"relation\": \"CAN_BE_STARTED\", \"tail\": \"Microsoft Edge\", \"tail_type\": \"Browser\"}]"
     ]
    },
    {
     "name": "stderr",
     "output_type": "stream",
     "text": [
      " 41%|████      | 25/61 [03:34<03:24,  5.69s/it]"
     ]
    },
    {
     "name": "stdout",
     "output_type": "stream",
     "text": [
      "[{\"head\": \"Акт работ и крат.мотиваций\", \"head_type\": \"Document\", \"relation\": \"DISPLAYS\", \"tail\": \"график мероприятий\", \"tail_type\": \"Schedule\"}, {\"head\": \"Документация\", \"head_type\": \"Tab\", \"relation\": \"CONTAINS\", \"tail\": \"мероприятия из графика мероприятий\", \"tail_type\": \"Events\"}, {\"head\": \"Акт работ и крат.мотиваций\", \"head_type\": \"Form\", \"relation\": \"REQUIRES\", \"tail\": \"вкладка Документация\", \"tail_type\": \"Tab\"}, {\"head\": \"Акты работ и крат.мотивация\", \"head_type\": \"Option\", \"relation\": \"SELECTED\", \"tail\": \"всплывающее окно\", \"tail_type\": \"Window\"}, {\"head\": \"Акт работ и крат.мотиваций\", \"head_type\": \"Form\", \"relation\": \"DISPLAYS\", \"tail\": \"Рисунок 3\", \"tail_type\": \"Image\"}, {\"head\": \"Акты работ и крат.мотивация\", \"head_type\": \"Tab\", \"relation\": \"CONTAINS\", \"tail\": \"всплывающее окно\", \"tail_type\": \"Window\"}, {\"head\": \"Возможные статусы расчета мотивации\", \"head_type\": \"List\", \"relation\": \"LISTED_IN\", \"tail\": \"Акт работ и крат.мотиваций\", \"tail_type\": \"Form\"}, {\"head\": \"Черновик\", \"head_type\": \"Status\", \"relation\": \"GENERATED_BY\", \"tail\": \"автоматически\", \"tail_type\": \"Automatically\"}, {\"head\": \"Сформирован\", \"head_type\": \"Status\", \"relation\": \"DEFAULT_STATUS\", \"tail\": \"утверждён (НПВ/ПВ)\", \"tail_type\": \"Approval\"}, {\"head\": \"На согласовании\", \"head_type\": \"Status\", \"relation\": \"OBTAINED_AFTER\", \"tail\": \"ручная отправка на согласование\", \"tail_type\": \"Manual\"}, {\"head\": \"Утвержден\", \"head_type\": \"Status\", \"relation\": \"OBTAINED_AFTER\", \"tail\": \"согласование супервайзера и утверждение начальника УВР\", \"tail_type\": \"Approval\"}, {\"head\": \"Без мотивации\", \"head_type\": \"Status\", \"relation\": \"OBTAINED_IN_CASES\", \"tail\": \"получено согласование супервайзера и утверждение начальника УВР, но\", \"tail_type\": \"Conditions\"}]"
     ]
    },
    {
     "name": "stderr",
     "output_type": "stream",
     "text": [
      " 43%|████▎     | 26/61 [03:47<04:45,  8.16s/it]"
     ]
    },
    {
     "name": "stdout",
     "output_type": "stream",
     "text": [
      "[{\"head\": \"Коэффициент производительного времени\", \"head_type\": \"Metric\", \"relation\": \"CALCULATED_FROM\", \"tail\": \"Время, принятое к оплате, час\", \"tail_type\": \"Time\"}, {\"head\": \"Коэффициент производительного времени\", \"head_type\": \"Metric\", \"relation\": \"CALCULATED_FROM\", \"tail\": \"Календарное время, час\", \"tail_type\": \"Time\"}]"
     ]
    },
    {
     "name": "stderr",
     "output_type": "stream",
     "text": [
      " 44%|████▍     | 27/61 [03:52<04:03,  7.15s/it]"
     ]
    },
    {
     "name": "stdout",
     "output_type": "stream",
     "text": [
      "[{\"head\": \"Технический предел\", \"head_type\": \"Publication\", \"relation\": \"DISPLAYS_SCORE\", \"tail\": \"Сводка ССК\", \"tail_type\": \"Report\"}, {\"head\": \"Сводка ССК\", \"head_type\": \"Report\", \"relation\": \"CALCULATED_BY\", \"tail\": \"Технический предел\", \"tail_type\": \"Publication\"}, {\"head\": \"Технический предел\", \"head_type\": \"Publication\", \"relation\": \"SHOWS_CHECKLIST\", \"tail\": \"Чек-лист\", \"tail_type\": \"Checklist\"}, {\"head\": \"Чек-лист\", \"head_type\": \"Checklist\", \"relation\": \"EDITED_BY\", \"tail\": \"Технический предел\", \"tail_type\": \"Publication\"}, {\"head\": \"Рисунок 7\", \"head_type\": \"Image\", \"relation\": \"SHOWS\", \"tail\": \"Сводка ССК\", \"tail_type\": \"Report\"}]"
     ]
    },
    {
     "name": "stderr",
     "output_type": "stream",
     "text": [
      " 46%|████▌     | 28/61 [03:59<03:49,  6.94s/it]"
     ]
    },
    {
     "name": "stdout",
     "output_type": "stream",
     "text": [
      "[{\"head\": \"Аварийность\", \"head_type\": \"Metric\", \"relation\": \"CALCULATED_FROM\", \"tail\": \"аварии, допущенные при проведении ремонта скважины\", \"tail_type\": \"Incidents\"}, {\"head\": \"Аварийность\", \"head_type\": \"Metric\", \"relation\": \"DEPENDS_ON\", \"tail\": \"ремонт скважины\", \"tail_type\": \"Maintenance\"}, {\"head\": \"Аварийность\", \"head_type\": \"Metric\", \"relation\": \"DISPLAYED_IN\", \"tail\": \"Сводка ССК\", \"tail_type\": \"System\"}, {\"head\": \"Ремонт скважины\", \"head_type\": \"Maintenance\", \"relation\": \"HAS_IMPACT_ON\", \"tail\": \"Аварийность\", \"tail_type\": \"Metric\"}, {\"head\": \"Рисунок 8\", \"head_type\": \"Diagram\", \"relation\": \"REFERENCES\", \"tail\": \"Аварийность\", \"tail_type\": \"Metric\"}, {\"head\": \"Сводка ССК\", \"head_type\": \"System\", \"relation\": \"PROVIDES_DATA_FOR\", \"tail\": \"Аварийность\", \"tail_type\": \"Metric\"}]"
     ]
    },
    {
     "name": "stderr",
     "output_type": "stream",
     "text": [
      " 48%|████▊     | 29/61 [04:06<03:45,  7.06s/it]"
     ]
    },
    {
     "name": "stdout",
     "output_type": "stream",
     "text": [
      "[{\"head\": \"Подрядчик\", \"head_type\": \"Person/Company\", \"relation\": \"ASSESSED_SECURITY\", \"tail\": \"Производственная безопасность\", \"tail_type\": \"Indicator\"}, {\"head\": \"Производственная безопасность\", \"head_type\": \"Indicator\", \"relation\": \"BASED_ON\", \"tail\": \"НЕ ВЫЯВЛЕНО НАРУШЕНИЙ\", \"tail_type\": \"Criterion\"}, {\"head\": \"Производственная безопасность\", \"head_type\": \"Indicator\", \"relation\": \"BASED_ON\", \"tail\": \"НАРУШЕНИЯ ВЫЯВЛЕНЫ И УСТРАНЕНЫ СОГЛАСНО МЕТОДИКЕ % БОЛЕЕ 90%\", \"tail_type\": \"Criterion\"}, {\"head\": \"Подрядчик\", \"head_type\": \"Person/Company\", \"relation\": \"ASSESSED_SECURITY\", \"tail\": \"Производственная безопасность\", \"tail_type\": \"Indicator\"}, {\"head\": \"Заказчик\", \"head_type\": \"Person/Company\", \"relation\": \"IDENTIFIED_VIOLATIONS\", \"tail\": \"опасные условия (ОУ) и опасных действий (ОД)\", \"tail_type\": \"Hazard\"}, {\"head\": \"работники бригады ТКРС\", \"head_type\": \"Person\", \"relation\": \"ASSESSED_SECURITY\", \"tail\": \"Происшествия без последствий (ПбП)\", \"tail_type\": \"Incident\"}]"
     ]
    },
    {
     "name": "stderr",
     "output_type": "stream",
     "text": [
      " 49%|████▉     | 30/61 [04:15<03:52,  7.50s/it]"
     ]
    },
    {
     "name": "stdout",
     "output_type": "stream",
     "text": [
      "[{\"head\": \"Общее количество баллов\", \"head_type\": \"Concept\", \"relation\": \"DISPLAYED_IN\", \"tail\": \"Коэффициент премирования\", \"tail_type\": \"Concept\"}, {\"head\": \"Итоговое количество баллов\", \"head_type\": \"Concept\", \"relation\": \"CALCULATED_FROM\", \"tail\": \"Сумма показателей\", \"tail_type\": \"Concept\"}]"
     ]
    },
    {
     "name": "stderr",
     "output_type": "stream",
     "text": [
      " 51%|█████     | 31/61 [04:19<03:13,  6.44s/it]"
     ]
    },
    {
     "name": "stdout",
     "output_type": "stream",
     "text": [
      "[{\"head\": \"Настройка\", \"head_type\": \"Setting\", \"relation\": \"HAS_FEATURE\", \"tail\": \"отображение данных\", \"tail_type\": \"Feature\"},{\"head\": \"Система\", \"head_type\": \"System\", \"relation\": \"PERMITS\", \"tail\": \"настроить отображение данных\", \"tail_type\": \"Action\"},{\"head\": \"Рисунок 11\", \"head_type\": \"Figure\", \"relation\": \"SHOWS\", \"tail\": \"Элементы настройки фильтрации формы «Наряд-заказ»\", \"tail_type\": \"Elements\"},{\"head\": \"Рисунок 12\", \"head_type\": \"Figure\", \"relation\": \"SHOWS\", \"tail\": \"Фильтр по полю «Месторождение»\", \"tail_type\": \"Filter\"},{\"head\": \"Рисунок 13\", \"head_type\": \"Figure\", \"relation\": \"SHOWS\", \"tail\": \"Фильтр по цеху\", \"tail_type\": \"Filter\"},{\"head\": \"Рисунок 14\", \"head_type\": \"Figure\", \"relation\": \"SHOWS\", \"tail\": \"Фильтр по номеру скважины\", \"tail_type\": \"Filter\"},{\"head\": \"Рисунок 15\", \"head_type\": \"Figure\", \"relation\": \"SHOWS\", \"tail\": \"Фильтр по виду мероприятия\", \"tail_type\": \"Filter\"},{\"head\": \"Рисунок 16\", \"head_type\": \"Figure\", \"relation\": \"SHOWS\", \"tail\": \"Список отфильтрован по виду (ТРС/Прочие)\", \"tail_type\": \"List\"},{\"head\": \"Рисунок 17\", \"head_type\": \"Figure\", \"relation\": \"SHOWS\", \"tail\": \"Фильтр по полю «Мероприятие»\", \"tail_type\": \"Filter\"},{\"head\": \"Рисунок 18\", \"head_type\": \"Figure\", \"relation\": \"SHOWS\", \"tail\": \"Список отфильтрован по полю мероприятие (Смена УЭЦН)\", \"tail_type\": \"List\"},{\"head\": \"Рисунок 19\", \"head_type\": \"Figure\", \"relation\": \"SHOWS\", \"tail\": \"Выбор месяца для отображения данных на форме «Акт работ»\", \"tail_type\": \"Action\"}]"
     ]
    },
    {
     "name": "stderr",
     "output_type": "stream",
     "text": [
      " 52%|█████▏    | 32/61 [04:31<03:58,  8.21s/it]"
     ]
    },
    {
     "name": "stdout",
     "output_type": "stream",
     "text": [
      "Вопросы и ответы по теме «Утверждение акта работ»:\n",
      "\n",
      "1. Какой тип АВР доступен для выбора при утверждении акта работ?\n",
      "Ответ: «Законченный ремонт», «Выполненный объем» или незаконченный ремонт.\n",
      "\n",
      "2. Для каких типов АВР выбор успешности ремонта заблокирован?\n",
      "Ответ: Для АВР по ТКРС и ГНКТ, если выбран «Выполненный объем».\n",
      "\n",
      "3. Какое значение успешности ремонта автоматически подтягивается для АВР по ТКРС и ГНКТ?\n",
      "Ответ: Из Протокола ГТС по ремонту.\n",
      "\n",
      "4. Для каких типов АВР обязательно наличие в системе утвержденного протокола ГТС по данному ремонту?\n",
      "Ответ: Для АВР по ТКРС и ГНКТ на выполненный объем и неуспешный ремонт.\n",
      "\n",
      "5. Что происходит, если по ремонту отсутствует утвержденный Протокол ГТС?\n",
      "Ответ: Утвердить акт работ на выполненный объем (по неуспешному ремонту) невозможно, пока не будет сформирован и утвержден Протокол ГТС по ремонту.\n",
      "\n",
      "6. Для каких типов АВР необходимо загрузить протокол в окне «Утверждение акта работ»?\n",
      "Ответ: Для АВР по ГРП на выполненный объем и неуспешный ремонт.\n",
      "\n",
      "7. Какое значение поля типа АВР устанавливается автоматически для АВР по КРС и ТРС, если ремонт активный?\n",
      "Ответ: «Неоконченный».\n",
      "\n",
      "8. Что происходит при нажатии на кнопку «Утвердить» после утверждения акта работ?\n",
      "Ответ: Акт работ утвержден.\n",
      "\n",
      "9. Для каких типов АВР к АВР автоматически прикрепляется ссылка на Протокол ГТС по ремонту?\n",
      "Ответ: Для АВР по ТКРС и ГНКТ на выполненный объем или неуспешный ремонт.\n",
      "\n",
      "10. Что происходит после утверждения акта работ?\n",
      "Ответ: Краткое описание работ из АВР импортируется в результатах работ и истории ремонтов."
     ]
    },
    {
     "name": "stderr",
     "output_type": "stream",
     "text": [
      " 54%|█████▍    | 33/61 [04:43<04:25,  9.46s/it]"
     ]
    },
    {
     "name": "stdout",
     "output_type": "stream",
     "text": [
      "[{\"head\": \"Excel\", \"head_type\": \"Software\", \"relation\": \"USED_FOR\", \"tail\": \"Report Excel\", \"tail_type\": \"Document\"}, {\"head\": \"Report Excel\", \"head_type\": \"Document\", \"relation\": \"GENERATED_BY\", \"tail\": \"Event\", \"tail_type\": \"Event\"}, {\"head\": \"Event\", \"head_type\": \"Event\", \"relation\": \"RELATED_TO\", \"tail\": \"Act Works\", \"tail_type\": \"Form\"}, {\"head\": \"Act Works\", \"head_type\": \"Form\", \"relation\": \"HAS_BUTTON\", \"tail\": \"Excel Button\", \"tail_type\": \"Button\"}, {\"head\": \"Excel Button\", \"head_type\": \"Button\", \"relation\": \"USED_FOR\", \"tail\": \"Report Excel\", \"tail_type\": \"Document\"}]"
     ]
    },
    {
     "name": "stderr",
     "output_type": "stream",
     "text": [
      " 56%|█████▌    | 34/61 [04:49<03:48,  8.47s/it]"
     ]
    },
    {
     "name": "stdout",
     "output_type": "stream",
     "text": [
      "Из предоставленного текста я не могу понять, что вы хотите сделать. Если у вас есть вопрос или проблема, с которой вы не можете справиться, я постараюсь помочь вам."
     ]
    },
    {
     "name": "stderr",
     "output_type": "stream",
     "text": [
      " 57%|█████▋    | 35/61 [04:53<03:03,  7.04s/it]"
     ]
    },
    {
     "name": "stdout",
     "output_type": "stream",
     "text": [
      "[{\"head\": \"Газпром-нефть\", \"head_type\": \"Company\", \"relation\": \"HAS_SUBSIDIARY\", \"tail\": \"ДО ПАО «Газпром-нефть»\", \"tail_type\": \"Subsidiary\"}, {\"head\": \"Акт работ\", \"head_type\": \"Document\", \"relation\": \"IS_GENERATED_BY\", \"tail\": \"Подрядная организация\", \"tail_type\": \"Organization\"}, {\"head\": \"Подрядная организация\", \"head_type\": \"Organization\", \"relation\": \"PERFORMS_WORK\", \"tail\": \"бригада\", \"tail_type\": \"Team\"}, {\"head\": \"бригада\", \"head_type\": \"Team\", \"relation\": \"WORKS_ON\", \"tail\": \"скважина\", \"tail_type\": \"Well\"}, {\"head\": \"скважина\", \"head_type\": \"Well\", \"relation\": \"IS_LOCATED_IN\", \"tail\": \"объект\", \"tail_type\": \"Object\"}, {\"head\": \"объект\", \"head_type\": \"Object\", \"relation\": \"IS_PART_OF\", \"tail\": \"ремонт\", \"tail_type\": \"Project\"}]"
     ]
    },
    {
     "name": "stderr",
     "output_type": "stream",
     "text": [
      " 59%|█████▉    | 36/61 [05:01<03:00,  7.23s/it]"
     ]
    },
    {
     "name": "stdout",
     "output_type": "stream",
     "text": [
      "[{\"head\": \"Просмотр наряд-заказа\", \"head_type\": \"Process\", \"relation\": \"HAS_STEP\", \"tail\": \"Загрузка наряд-заказа\", \"tail_type\": \"Action\"},{\"head\": \"Загрузка наряд-заказа\", \"head_type\": \"Action\", \"relation\": \"REQUIRES_BUTTON_CLICK\", \"tail\": \"Кнопка загрузки наряд-заказа\", \"tail_type\": \"Button\"},{\"head\": \"Кнопка загрузки наряд-заказа\", \"head_type\": \"Button\", \"relation\": \"IS_PART_OF\", \"tail\": \"Наряд-заказ\", \"tail_type\": \"Table\"},{\"head\": \"Обновление данных наряд-заказа\", \"head_type\": \"Action\", \"relation\": \"REQUIRES_BUTTON_CLICK\", \"tail\": \"Кнопка обновления данных наряд-заказа\", \"tail_type\": \"Button\"},{\"head\": \"Кнопка обновления данных наряд-заказа\", \"head_type\": \"Button\", \"relation\": \"IS_PART_OF\", \"tail\": \"Наряд-заказ\", \"tail_type\": \"Table\"},{\"head\": \"Просмотр наряд-заказа\", \"head_type\": \"Process\", \"relation\": \"HAS_STEP\", \"tail\": \"Загрузка наряд-заказа\", \"tail_type\": \"Action\"},{\"head\": \"Загрузка наряд-заказа\", \"head_type\": \"Action\", \"relation\": \"REQUIRES_BUTTON_CLICK\", \"tail\": \"Кнопка загрузки наряд-заказа\", \"tail_type\": \"Button\"},{\"head\": \"Просмотр наряд-заказа\", \"head_type\": \"Process\", \"relation\": \"HAS_STEP\", \"tail\": \"Обновление данных наряд-заказа\", \"tail_type\": \"Action\"},{\"head\": \"Обновление данных наряд-заказа\", \"head_type\": \"Action\", \"relation\": \"REQUIRES_BUTTON_CLICK\", \"tail\": \"Кнопка обновления данных наряд-заказа\", \"tail_type\": \"Button\"}]"
     ]
    },
    {
     "name": "stderr",
     "output_type": "stream",
     "text": [
      " 61%|██████    | 37/61 [05:11<03:18,  8.25s/it]"
     ]
    },
    {
     "name": "stdout",
     "output_type": "stream",
     "text": [
      "Ок, я понял. Вы хотите описать функционал системы для управления работами и актами-работ в части их создания, редактирования, отправки на согласование и отзыва. Я попробую суммировать все ключевые моменты.\n",
      "\n",
      "Создание акта-работ:\n",
      "\n",
      "* Создается новая операция\n",
      "* В корневой операции необходимо указать время начала и окончания работ\n",
      "* Нажимаем «Сохранить», чтобы сохранить изменения\n",
      "\n",
      "Отправка на согласование:\n",
      "\n",
      "* Акт-работ можно отправлять на согласование специалистам ГПН\n",
      "* При отправке на согласование появляется подсказка о том, в каких операциях не загружены акты или не заполнено поле времени\n",
      "* Нажимаем «На согласование», чтобы отправить акт-работ на согласование\n",
      "\n",
      "Отзыв:\n",
      "\n",
      "* Акт-работ можно отозвать при условии, что ни один из согласующих не согласовал «Акт работ»\n",
      "* Нажимаем «Отозвать», чтобы отправить запрос на отзыв\n",
      "* После отправки запроса статус изменится на «Сформирован»\n",
      "\n",
      "Редактирование:\n",
      "\n",
      "* Акт-работ можно корректировать после отзыва или перед отправкой на согласование\n",
      "* Нажимаем «Изменить», чтобы откорректировать акт-работ\n",
      "\n",
      "Удаление:\n",
      "\n",
      "* Акт-работ можно удалить, нажав на кнопку «Удалить»\n",
      "\n",
      "Выгрузка в Excel:\n",
      "\n",
      "* Акт-работ можно выгрузить в формате Excel, нажимая на кнопку «Выгрузить в Excel»\n",
      "\n",
      "Согласование:\n",
      "\n",
      "* После согласования специалистом план работ примет статус «Согласован»\n",
      "* Инициатор согласования получит письмо-уведомление о факте согласования\n",
      "\n",
      "В общем, система позволяет создавать и редактировать акты-работ, отправлять их на согласование и отзывать. Акт-работ можно выгрузить в Excel или удалить. После согласования план работ принимает статус «Согласован»."
     ]
    },
    {
     "name": "stderr",
     "output_type": "stream",
     "text": [
      " 62%|██████▏   | 38/61 [05:23<03:32,  9.25s/it]"
     ]
    },
    {
     "name": "stdout",
     "output_type": "stream",
     "text": [
      "[{\"head\": \"Рассылка уведомлений о статусе\", \"head_type\": \"Notification\", \"relation\": \"REQUIRES\", \"tail\": \"письмо на службу технической поддержки\", \"tail_type\": \"Support Service\"},{\"head\": \"письме на службу технической поддержки\", \"head_type\": \"Support Request\", \"relation\": \"NEEDS\", \"tail\": \"электронная почта\", \"tail_type\": \"Email Address\"},{\"head\": \"письме на службу технической поддержки\", \"head_type\": \"Support Request\", \"relation\": \"REQUIRES\", \"tail\": \"указание электронной почты\", \"tail_type\": \"Email Address\"},{\"head\": \"письме на службу технической поддержки\", \"head_type\": \"Support Request\", \"relation\": \"REQUIRES\", \"tail\": \"подписаться на рассылку статусов согласования планов и актов работ\", \"tail_type\": \"Subscription\"}]"
     ]
    },
    {
     "name": "stderr",
     "output_type": "stream",
     "text": [
      " 64%|██████▍   | 39/61 [05:30<03:06,  8.49s/it]"
     ]
    },
    {
     "name": "stdout",
     "output_type": "stream",
     "text": [
      "[{\"head\": \"Мероприятия\", \"head_type\": \"Module\", \"relation\": \"CONTAINS\", \"tail\": \"график мероприятий (ГТМ, база, ТРС, Исследование)\", \"tail_type\": \"Graph\"}, {\"head\": \"Мероприятия\", \"head_type\": \"Module\", \"relation\": \"CONTAINS\", \"tail\": \"форма\", \"tail_type\": \"Form\"}, {\"head\": \"Мероприятия\", \"head_type\": \"Module\", \"relation\": \"HAS_FEATURE\", \"tail\": \"график мероприятий (ГТМ, база, ТРС, Исследование)\", \"tail_type\": \"Feature\"}, {\"head\": \"Мероприятия\", \"head_type\": \"Module\", \"relation\": \"HAS_FEATURE\", \"tail\": \"форма\", \"tail_type\": \"Feature\"}, {\"head\": \"график мероприятий (ГТМ, база, ТРС, Исследование)\", \"head_type\": \"Graph\", \"relation\": \"SHOWS_DATA\", \"tail\": \"информация о выполнении работ\", \"tail_type\": \"Information\"}, {\"head\": \"форма\", \"head_type\": \"Form\", \"relation\": \"DISPLAYS\", \"tail\": \"данные в соответствии с потребностями пользователя\", \"tail_type\": \"Data\"}]"
     ]
    },
    {
     "name": "stderr",
     "output_type": "stream",
     "text": [
      " 66%|██████▌   | 40/61 [05:37<02:52,  8.20s/it]"
     ]
    },
    {
     "name": "stdout",
     "output_type": "stream",
     "text": [
      "[{\"head\": \"Просмотр графика\", \"head_type\": \"Action\", \"relation\": \"REQUIRES\", \"tail\": \"подвкладки\", \"tail_type\": \"Menu\"}, {\"head\": \"подвкладки\", \"head_type\": \"Menu\", \"relation\": \"CONTAINS\", \"tail\": \"база\", \"tail_type\": \"Category\"}, {\"head\": \"подвкладки\", \"head_type\": \"Menu\", \"relation\": \"CONTAINS\", \"tail\": \"ГТМ\", \"tail_type\": \"Category\"}, {\"head\": \"подвкладки\", \"head_type\": \"Menu\", \"relation\": \"CONTAINS\", \"tail\": \"ТРС\", \"tail_type\": \"Category\"}, {\"head\": \"подвкладки\", \"head_type\": \"Menu\", \"relation\": \"CONTAINS\", \"tail\": \"исследование все\", \"tail_type\": \"Category\"}]"
     ]
    },
    {
     "name": "stderr",
     "output_type": "stream",
     "text": [
      " 67%|██████▋   | 41/61 [05:43<02:29,  7.48s/it]"
     ]
    },
    {
     "name": "stdout",
     "output_type": "stream",
     "text": [
      "[{\"head\": \"Поиск информации\", \"head_type\": \"Concept\", \"relation\": \"RELATED_TO\", \"tail\": \"объекты\", \"tail_type\": \"Concept\"},{\"head\": \"по умолчанию\", \"head_type\": \"Default\", \"relation\": \"DEFAULT_SEARCH_PARAMETER\", \"tail\": \"номер скважины\", \"tail_type\": \"Parameter\"},{\"head\": \"поиск информации\", \"head_type\": \"Search\", \"relation\": \"PERFORMED_ON\", \"tail\": \"номер скважины\", \"tail_type\": \"Parameter\"},{\"head\": \"поиск информации\", \"head_type\": \"Search\", \"relation\": \"CAN_BE_PERFORMED_ON\", \"tail\": \"скважина\", \"tail_type\": \"Concept\"},{\"head\": \"поиск информации\", \"head_type\": \"Search\", \"relation\": \"CAN_BE_PERFORMED_ON\", \"tail\": \"кластер\", \"tail_type\": \"Concept\"},{\"head\": \"поиск информации\", \"head_type\": \"Search\", \"relation\": \"CAN_BE_PERFORMED_ON\", \"tail\": \"месторождение\", \"tail_type\": \"Concept\"},{\"head\": \"поиск информации\", \"head_type\": \"Search\", \"relation\": \"CAN_BE_PERFORMED_ON\", \"tail\": \"кус\", \"tail_type\": \"Concept\"},{\"head\": \"поиск информации\", \"head_type\": \"Search\", \"relation\": \"CAN_BE_PERFORMED_ON\", \"tail\": \"ЦДНГ\", \"tail_type\": \"Concept\"},{\"head\": \"поиск информации\", \"head_type\": \"Search\", \"relation\": \"CAN_BE_PERFORMED_ON\", \"tail\": \"вид ремонта\", \"tail_type\": \"Concept\"},{\"head\": \"поиск информации\", \"head_type\": \"Search\", \"relation\": \"CAN_BE_PERFORMED_ON\", \"tail\": \"бригада\", \"tail_type\": \"Concept\"}]"
     ]
    },
    {
     "name": "stderr",
     "output_type": "stream",
     "text": [
      " 69%|██████▉   | 42/61 [05:53<02:34,  8.11s/it]"
     ]
    },
    {
     "name": "stdout",
     "output_type": "stream",
     "text": [
      "[{\"head\": \"фильтры списка\", \"head_type\": \"Concept\", \"relation\": \"RELATED_TO\", \"tail\": \"настройка фильтрации списка\", \"tail_type\": \"Process\"}, {\"head\": \"Завершенные мероприятия\", \"head_type\": \"Concept\", \"relation\": \"SHOWS\", \"tail\": \"мероприятия/ с датой запуска в текущем месяце\", \"tail_type\": \"Event\"}, {\"head\": \"Отображать завершенные мероприятия\", \"head_type\": \"Option\", \"relation\": \"CONTROLS\", \"tail\": \"отображение мероприятий, по которым был произведен запуск\", \"tail_type\": \"Process\"}, {\"head\": \"Отображать только с датой запуска в текущем месяце\", \"head_type\": \"Option\", \"relation\": \"CONTROLS\", \"tail\": \"отображение переходящих мероприятий в графике\", \"tail_type\": \"Process\"}, {\"head\": \"Требуются комментарии по отклонениям\", \"head_type\": \"Option\", \"relation\": \"CONTROLS\", \"tail\": \"отображение мероприятий требующие комментарии в графике\", \"tail_type\": \"Process\"}, {\"head\": \"комментарий по мероприятию\", \"head_type\": \"Concept\", \"relation\": \"RELATED_TO\", \"tail\": \"внесение комментария\", \"tail_type\": \"Action\"}, {\"head\": \"график мероприятий\", \"head_type\": \"Concept\", \"relation\": \"SHOWS\", \"tail\": \"мероприятия в правой части экрана\", \"tail_type\": \"Event\"}]"
     ]
    },
    {
     "name": "stderr",
     "output_type": "stream",
     "text": [
      " 70%|███████   | 43/61 [06:02<02:30,  8.37s/it]"
     ]
    },
    {
     "name": "stdout",
     "output_type": "stream",
     "text": [
      "[{\"head\": \"график добычи\", \"head_type\": \"Graph\", \"relation\": \"DISPLAYED_ON\", \"tail\": \"форме «Мероприятия»\", \"tail_type\": \"Form\"}, {\"head\": \"форма «Мероприятия»\", \"head_type\": \"Form\", \"relation\": \"CONTAINS\", \"tail\": \"кнопку «График добычи»\", \"tail_type\": \"Button\"}, {\"head\": \"кнопка «График добычи»\", \"head_type\": \"Button\", \"relation\": \"OPENED_BY_CLICKING_ON\", \"tail\": \"панель с графиком добычи\", \"tail_type\": \"Panel\"}]"
     ]
    },
    {
     "name": "stderr",
     "output_type": "stream",
     "text": [
      " 72%|███████▏  | 44/61 [06:07<02:05,  7.39s/it]"
     ]
    },
    {
     "name": "stdout",
     "output_type": "stream",
     "text": [
      "[{\"head\": \"сводка\", \"head_type\": \"Report\", \"relation\": \"RELATED_TO\", \"tail\": \"контрольная скважина\", \"tail_type\": \"Well\"}, {\"head\": \"сводка\", \"head_type\": \"Report\", \"relation\": \"DISPLAYED_IN\", \"tail\": \"модальное окно\", \"tail_type\": \"Window\"}, {\"head\": \"сводка\", \"head_type\": \"Report\", \"relation\": \"EDITABLE_BY\", \"tail\": \"пользователь\", \"tail_type\": \"User\"}, {\"head\": \"контрольная скважина\", \"head_type\": \"Well\", \"relation\": \"HAS_SUMMARY\", \"tail\": \"сводка\", \"tail_type\": \"Report\"}]"
     ]
    },
    {
     "name": "stderr",
     "output_type": "stream",
     "text": [
      " 74%|███████▍  | 45/61 [06:12<01:48,  6.76s/it]"
     ]
    },
    {
     "name": "stdout",
     "output_type": "stream",
     "text": [
      "[{\"head\": \"Просмотр параметров по сважине\", \"head_type\": \"Activity\", \"relation\": \"HAS_INFORMATION\", \"tail\": \"информация по параметрам скважины\", \"tail_type\": \"Information\"},{\"head\": \"график мероприятий\", \"head_type\": \"Graph\", \"relation\": \"SHOWS_DATA\", \"tail\": \"параметры скважины\", \"tail_type\": \"Data\"},{\"head\": \"форма графика мероприятий\", \"head_type\": \"Form\", \"relation\": \"CONTAINS_DATA\", \"tail\": \"информация по параметрам скважины\", \"tail_type\": \"Information\"},{\"head\": \"скважина\", \"head_type\": \"Well\", \"relation\": \"HAS_DATA\", \"tail\": \"данные по последнему техрежиму из ШТР\", \"tail_type\": \"Data\"},{\"head\": \"скважина\", \"head_type\": \"Well\", \"relation\": \"HAS_STOP_DATE\", \"tail\": \"дата остановки\", \"tail_type\": \"Date\"},{\"head\": \"ОИС\", \"head_type\": \"System\", \"relation\": \"STORES_DATA\", \"tail\": \"данные по расчету графика добычи\", \"tail_type\": \"Data\"},{\"head\": \"ИС «Расчета графика добычи»\", \"head_type\": \"System\", \"relation\": \"STORES_DATA\", \"tail\": \"данные по расчету графика добычи\", \"tail_type\": \"Data\"}]"
     ]
    },
    {
     "name": "stderr",
     "output_type": "stream",
     "text": [
      " 75%|███████▌  | 46/61 [06:20<01:47,  7.19s/it]"
     ]
    },
    {
     "name": "stdout",
     "output_type": "stream",
     "text": [
      "[{\"head\": \"ремонт\", \"head_type\": \"repair\", \"relation\": \"RELATED_TO\", \"tail\": \"мероприятие\", \"tail_type\": \"event\"}, {\"head\": \"мероприятие\", \"head_type\": \"event\", \"relation\": \"HAS_STAGE\", \"tail\": \"этап\", \"tail_type\": \"stage\"}, {\"head\": \"этап\", \"head_type\": \"stage\", \"relation\": \"NEEDS_PARAMETER\", \"tail\": \"дополнительные параметры\", \"tail_type\": \"parameters\"}, {\"head\": \"мероприятие\", \"head_type\": \"event\", \"relation\": \"HAS_PARAMETER\", \"tail\": \"дата начала\", \"tail_type\": \"date\"}, {\"head\": \"мероприятие\", \"head_type\": \"event\", \"relation\": \"HAS_PARAMETER\", \"tail\": \"дата окончания\", \"tail_type\": \"date\"}, {\"head\": \"мероприятие\", \"head_type\": \"event\", \"relation\": \"HAS_PARAMETER\", \"tail\": \"оценность\", \"tail_type\": \"priority\"}, {\"head\": \"ИС СМБ\", \"head_type\": \"system\", \"relation\": \"IMPORTS_DATA\", \"tail\": \"дата начала бурения\", \"tail_type\": \"date\"}, {\"head\": \"ИС СМБ\", \"head_type\": \"system\", \"relation\": \"IMPORTS_DATA\", \"tail\": \"дата окончания бурения\", \"tail_type\": \"date\"}, {\"head\": \"ИС СМБ\", \"head_type\": \"system\", \"relation\": \"IMPORTS_DATA\", \"tail\": \"даты движки\", \"tail_type\": \"dates\"}]"
     ]
    },
    {
     "name": "stderr",
     "output_type": "stream",
     "text": [
      " 77%|███████▋  | 47/61 [06:29<01:48,  7.74s/it]"
     ]
    },
    {
     "name": "stdout",
     "output_type": "stream",
     "text": [
      "[{\"head\": \"пользователь\", \"head_type\": \"Person\", \"relation\": \"BLOCKS\", \"tail\": \"мероприятие\", \"tail_type\": \"Event\"},{\"head\": \"мероприятие\", \"head_type\": \"Event\", \"relation\": \"EDITED_BY\", \"tail\": \"пользователь\", \"tail_type\": \"Person\"},{\"head\": \"мероприятие\", \"head_type\": \"Event\", \"relation\": \"BLOCKS_OTHERS\", \"tail\": \"пользователи\", \"tail_type\": \"People\"},{\"head\": \"пользователи\", \"head_type\": \"People\", \"relation\": \"SEES\", \"tail\": \"мероприятие\", \"tail_type\": \"Event\"},{\"head\": \"пользователь\", \"head_type\": \"Person\", \"relation\": \"UNBLOCKS\", \"tail\": \"мероприятие\", \"tail_type\": \"Event\"}]"
     ]
    },
    {
     "name": "stderr",
     "output_type": "stream",
     "text": [
      " 79%|███████▊  | 48/61 [06:35<01:33,  7.16s/it]"
     ]
    },
    {
     "name": "stdout",
     "output_type": "stream",
     "text": [
      "[{\"head\": \"мероприятия\", \"head_type\": \"Event\", \"relation\": \"HAS_PARALLEL_REPAIRS\", \"tail\": \"скважина\", \"tail_type\": \"Well\"}, {\"head\": \"мероприятия\", \"head_type\": \"Event\", \"relation\": \"REQUIRES_INPUT\", \"tail\": \"панели изменения мероприятия\", \"tail_type\": \"Panel\"}, {\"head\": \"мероприятия\", \"head_type\": \"Event\", \"relation\": \"HAS_STEP\", \"tail\": \"ГРП\", \"tail_type\": \"RepairStep\"}, {\"head\": \"мероприятия\", \"head_type\": \"Event\", \"relation\": \"REQUIRES_INPUT\", \"tail\": \"контекстное меню добавить ремонт\", \"tail_type\": \"Menu\"}, {\"head\": \"мероприятия\", \"head_type\": \"Event\", \"relation\": \"HAS_STEP\", \"tail\": \"скважина\", \"tail_type\": \"Well\"}]"
     ]
    },
    {
     "name": "stderr",
     "output_type": "stream",
     "text": [
      " 80%|████████  | 49/61 [06:41<01:21,  6.83s/it]"
     ]
    },
    {
     "name": "stdout",
     "output_type": "stream",
     "text": [
      "[{\"head\": \"ремонт\", \"head_type\": \"repair\", \"relation\": \"DELETE_FROM\", \"tail\": \"мероприятие\", \"tail_type\": \"event\"}, {\"head\": \"мероприятие\", \"head_type\": \"event\", \"relation\": \"CONTAINS_REPAIR\", \"tail\": \"ремонт\", \"tail_type\": \"repair\"}, {\"head\": \"панель изменения мероприятия\", \"head_type\": \"panel\", \"relation\": \"SHOWS_CONTEXT_MENU\", \"tail\": \"контекстное меню удаления этапа\", \"tail_type\": \"context menu\"}, {\"head\": \"контекстное меню удаления этапа\", \"head_type\": \"context menu\", \"relation\": \"DISPLAYED_IN\", \"tail\": \"панель изменения мероприятия\", \"tail_type\": \"panel\"}, {\"head\": \"кнопка контекстного меню\", \"head_type\": \"button\", \"relation\": \"TRIGGERED_CONTEXT_MENU\", \"tail\": \"контекстное меню удаления этапа\", \"tail_type\": \"context menu\"}, {\"head\": \"кнопка «Удалить»\", \"head_type\": \"button\", \"relation\": \"TRIGGERED_DELETION\", \"tail\": \"ремонт\", \"tail_type\": \"repair\"}, {\"head\": \"окно подтверждения удаления ремонта\", \"head_type\": \"window\", \"relation\": \"SHOWS_CONFIRMATION_MESSAGE\", \"tail\": \"мероприятие\", \"tail_type\": \"event\"}]"
     ]
    },
    {
     "name": "stderr",
     "output_type": "stream",
     "text": [
      " 82%|████████▏ | 50/61 [06:49<01:20,  7.28s/it]"
     ]
    },
    {
     "name": "stdout",
     "output_type": "stream",
     "text": [
      "[{\"head\": \"система\", \"head_type\": \"System\", \"relation\": \"ALLLOWS\", \"tail\": \"save stage sets in template\", \"tail_type\": \"Action\"},{\"head\": \"stage sets\", \"head_type\": \"Stage Sets\", \"relation\": \"CAN_BE_SAVED\", \"tail\": \"template\", \"tail_type\": \"Template\"},{\"head\": \"template\", \"head_type\": \"Template\", \"relation\": \"IS_CREATED_BY\", \"tail\": \"user\", \"tail_type\": \"User\"},{\"head\": \"template\", \"head_type\": \"Template\", \"relation\": \"IS_ASSOCIATED_WITH\", \"tail\": \"event type\", \"tail_type\": \"Event Type\"},{\"head\": \"event type\", \"head_type\": \"Event Type\", \"relation\": \"IS_RELATED_TO\", \"tail\": \"template\", \"tail_type\": \"Template\"},{\"head\": \"user\", \"head_type\": \"User\", \"relation\": \"CREATES_TEMPLATE\", \"tail\": \"template\", \"tail_type\": \"Template\"},{\"head\": \"button\", \"head_type\": \"Button\", \"relation\": \"IS_CLICKED_BY\", \"tail\": \"user\", \"tail_type\": \"User\"}]"
     ]
    },
    {
     "name": "stderr",
     "output_type": "stream",
     "text": [
      " 84%|████████▎ | 51/61 [06:56<01:11,  7.16s/it]"
     ]
    },
    {
     "name": "stdout",
     "output_type": "stream",
     "text": [
      "[{\"head\": \"бригада\", \"head_type\": \"Person/Team\", \"relation\": \"ASSIGNED_TO\", \"tail\": \"ремонт\", \"tail_type\": \"Event\"}, {\"head\": \"бригада\", \"head_type\": \"Person/Team\", \"relation\": \"ASSIGNED_TO\", \"tail\": \"мероприятие\", \"tail_type\": \"Event\"}, {\"head\": \"мероприятие\", \"head_type\": \"Event\", \"relation\": \"HAS_SCHEDULED_DATE\", \"tail\": \"дата\", \"tail_type\": \"Date\"}, {\"head\": \"мероприятие\", \"head_type\": \"Event\", \"relation\": \"HAS_PLANNED_WORK\", \"tail\": \"КР-ТР работы\", \"tail_type\": \"Work\"}, {\"head\": \"подрядчик\", \"head_type\": \"Person/Company\", \"relation\": \"IS_CONTRACTOR_FOR\", \"tail\": \"мероприятие\", \"tail_type\": \"Event\"}, {\"head\": \"бригада ГРП\", \"head_type\": \"Person/Team\", \"relation\": \"HAS_STAGES\", \"tail\": \"стадии ГРП\", \"tail_type\": \"Stage\"}, {\"head\": \"бригада ГРП\", \"head_type\": \"Person/Team\", \"relation\": \"HAS_PROPANT_SUMMARY\", \"tail\": \"суммарное количество пропанта\", \"tail_type\": \"Quantity\"}]"
     ]
    },
    {
     "name": "stderr",
     "output_type": "stream",
     "text": [
      " 85%|████████▌ | 52/61 [07:05<01:07,  7.47s/it]"
     ]
    },
    {
     "name": "stdout",
     "output_type": "stream",
     "text": [
      "[{\"head\": \"Система\", \"head_type\": \"System\", \"relation\": \"HAS_FUNCTIONALITY\", \"tail\": \"редактирования справочников бригад и локаций\", \"tail_type\": \"Functionality\"},{\"head\": \"Система\", \"head_type\": \"System\", \"relation\": \"REQUIRES_INPUT\", \"tail\": \"кнопку в виде грузового автомобиля\", \"tail_type\": \"Button\"},{\"head\": \"Панель «Закрепление бригад»\", \"head_type\": \"Panel\", \"relation\": \"CONTAINS_TABLE\", \"tail\": \"Таблица «Активные бригады»\", \"tail_type\": \"Table\"},{\"head\": \"Панель «Закрепление бригад»\", \"head_type\": \"Panel\", \"relation\": \"CONTAINS_TABLE\", \"tail\": \"Таблица «Прочие»\", \"tail_type\": \"Table\"},{\"head\": \"Фильтр по типам бригад\", \"head_type\": \"Filter\", \"relation\": \"HAS_BUTTON\", \"tail\": \"Кнопка «Добавление бригады»\", \"tail_type\": \"Button\"},{\"head\": \"Бригада\", \"head_type\": \"Team\", \"relation\": \"IS_INCLUDED_IN\", \"tail\": \"Таблица «Активные бригады»\", \"tail_type\": \"Table\"},{\"head\": \"Бригада\", \"head_type\": \"Team\", \"relation\": \"IS_INCLUDED_IN\", \"tail\": \"Таблица «Прочие»\", \"tail_type\": \"Table\"},{\"head\": \"Система\", \"head_type\": \"System\", \"relation\": \"HAS_FUNCTIONALITY\", \"tail\": \"редактирование справочников бригад и локаций через интерфейс\", \"tail_type\": \"Functionality\"},{\"head\": \"Кнопка в виде грузового автомобиля\", \"head_type\": \"Button\", \"relation\": \"IS_REQUIRED_FOR\", \"tail\": \"открытие панели «Закрепление бригад»\", \"tail_type\": \"Action\"},{\"head\": \"Панель «Закрепление бригад»\", \"head_type\": \"Panel\", \"relation\": \"CONTAINS_TABLE\", \"tail\": \"Таблица «Бригады на локациях»\", \"tail_type\": \"Table\"},{\"head\": \"Панель «Закрепление бригад»\", \"head_type\": \"Panel\", \"relation\": \"CONTAINS_TABLE\", \"tail\": \"Таблица «Бригады подрядчиков»\", \"tail_type\": \"Table\"},{\"head\": \"Система\", \"head_type\": \"System\", \"relation\": \"HAS_FUNCTIONALITY\", \"tail\": \"редактирование справочников бригад и локаций через интерфейс\", \"tail_type\": \"Functionality\"}]"
     ]
    },
    {
     "name": "stderr",
     "output_type": "stream",
     "text": [
      " 87%|████████▋ | 53/61 [07:19<01:16,  9.56s/it]"
     ]
    },
    {
     "name": "stdout",
     "output_type": "stream",
     "text": [
      "[{\"head\": \"График мероприятии\", \"head_type\": \"System\", \"relation\": \"HAS_FEATURE\", \"tail\": \"Признаки для бригад ГРР\", \"tail_type\": \"Feature\"},{\"head\": \"Мероприятия\", \"head_type\": \"Event\", \"relation\": \"IS_PART_OF\", \"tail\": \"График мероприятии\", \"tail_type\": \"System\"},{\"head\": \"Закрепление бригад\", \"head_type\": \"Button\", \"relation\": \"HAS_FUNCTION\", \"tail\": \"Список закрепеления исполнителей\", \"tail_type\": \"List\"},{\"head\": \"Активные\", \"head_type\": \"Button\", \"relation\": \"IS_PART_OF\", \"tail\": \"Закрепление бригад\", \"tail_type\": \"Button\"},{\"head\": \"Подрядынх бригад\", \"head_type\": \"List\", \"relation\": \"IS_PART_OF\", \"tail\": \"Активные\", \"tail_type\": \"Button\"},{\"head\": \"Нужный\", \"head_type\": \"Team\", \"relation\": \"IS_MEMBER_OF\", \"tail\": \"Подрядынх бригад\", \"tail_type\": \"List\"},{\"head\": \"Столбец сводка\", \"head_type\": \"Column\", \"relation\": \"HAS_FEATURE\", \"tail\": \"Форма управление состоянием бригады\", \"tail_type\": \"Form\"},{\"head\": \"ГРР\", \"head_type\": \"Feature\", \"relation\": \"IS_PART_OF\", \"tail\": \"Столбец сводка\", \"tail_type\": \"Column\"}]"
     ]
    },
    {
     "name": "stderr",
     "output_type": "stream",
     "text": [
      " 89%|████████▊ | 54/61 [07:28<01:05,  9.34s/it]"
     ]
    },
    {
     "name": "stdout",
     "output_type": "stream",
     "text": [
      "Похоже, это текст из программного обеспечения для управления проектами в нефтяной отрасли. Я попробую разбить его на более мелкие части и объяснить каждый пункт.\n",
      "\n",
      "**1. Фактическое количество Флотов ГНКТ**\n",
      "\n",
      "* Под фактическим количеством работающих флотов ГНКТ понимается суммарное количество флотов, ведущих сводку с привязкой к скважине, без учета времени до операции «открытие центральной задвижки».\n",
      "* Отображается в строке «Бригад в работе/прогноз».\n",
      "\n",
      "**2. Прогнозное количество Флотов ГНКТ**\n",
      "\n",
      "* Под прогнозным количеством флотов ГНКТ понимается суммарное количество работ в сутки без округления.\n",
      "* Логика расчета аналогична п 2.1.\n",
      "\n",
      "**3. Фактическое количество Флотов ГРП**\n",
      "\n",
      "* Логика соответствует описанию в п. 6 «Фактическое количество Флотов ГНКТ», за исключением: вместо операции «открытие центральной задвижки» учитывается «ПР к мини ГРП».\n",
      "\n",
      "**4. Прогнозное количество флотов ГРП**\n",
      "\n",
      "* Под прогнозным количеством флотов ГРП понимается суммарное количество работ в сутки без округления.\n",
      "* Логика расчета аналогична п 2.1.\n",
      "\n",
      "**5. Отклонения**\n",
      "\n",
      "* Строка отклонений в панели загрузки бригад рассчитывается как разница между строками «Бригад всего» и «Бригад в работе/прогноз» на каждые сутки месяца.\n",
      "* При этом до текущей даты (исключая ее) значения отклонений являются фактическими, а начиная с текущей даты (включительно) по конец месяца расчет отклонений является прогнозным.\n",
      "\n",
      "**6. Расчетное количество бригад**\n",
      "\n",
      "* В режиме просмотра расчетного графика мероприятий, в панели загрузки бригад вместо прогнозируемых параметров отображаются прогнозные расчетные значения по загрузке бригад на каждые сутки месяца.\n",
      "* Расчетные значения будут выделены оранжевым цветом.\n",
      "\n",
      "**7. Среднее количество**\n",
      "\n",
      "* Среднее количество рассчитывается как отношение суммы всех фактических значений каждого параметра к количеству дней (за 3 последних месяца).\n",
      "* Сумма работ/бригад за 3 месяца разделить на количество суток в 3-х месяцах.\n",
      "\n",
      "**8. Фильтрация по локациям**\n",
      "\n",
      "* В случае применения фильтра по локациям, в панели загрузки бригад отображаются только бригады/флота и работы привязанные к выбранной локации.\n",
      "* В случае фильтрации по видам мероприятий (ГТМ, База, ТРС):\n",
      "\t+ Факт/прогноз работ – фактически выполненные и прогнозные работы с выбранным типом мероприятия;\n",
      "\t+ Бригад всего – общее количество из справочника бригад;\n",
      "\t+ Бригад в работе/прогноз – бригады/флота, выполнявшие и запланированные на работы в этом виде мероприятия;\n",
      "\t+ Отклонения – всегда «-», т.к. расчет не возможен;\n",
      "\n",
      "В случае применения фильтра по локациям и виду мероприятия одновременно – фильтры накладываются.\n",
      "\n",
      "Если вы хотите, я могу объяснить каждый пункт более подробно или ответить на конкретные вопросы."
     ]
    },
    {
     "name": "stderr",
     "output_type": "stream",
     "text": [
      " 90%|█████████ | 55/61 [07:47<01:13, 12.27s/it]"
     ]
    },
    {
     "name": "stdout",
     "output_type": "stream",
     "text": [
      "[{\"head\": \"PI\", \"head_type\": \"Metric\", \"relation\": \"CALCULATED_BY\", \"tail\": \"Event\", \"tail_type\": \"Activity\"},{\"head\": \"PI\", \"head_type\": \"Metric\", \"relation\": \"BASED_ON\", \"tail\": \"ARF and OIZ data\", \"tail_type\": \"Dataset\"},{\"head\": \"PI\", \"head_type\": \"Metric\", \"relation\": \"BASED_ON\", \"tail\": \"Average values by field\", \"tail_type\": \"Calculation\"},{\"head\": \"NPV\", \"head_type\": \"Metric\", \"relation\": \"CALCULATED_BY\", \"tail\": \"Event\", \"tail_type\": \"Activity\"},{\"head\": \"NPV\", \"head_type\": \"Metric\", \"relation\": \"BASED_ON\", \"tail\": \"ARF and OIZ data\", \"tail_type\": \"Dataset\"},{\"head\": \"NPV\", \"head_type\": \"Metric\", \"relation\": \"BASED_ON\", \"tail\": \"Average values by field\", \"tail_type\": \"Calculation\"},{\"head\": \"Excell\", \"head_type\": \"Button\", \"relation\": \"EXPORTS_DATA\", \"tail\": \"Excel file\", \"tail_type\": \"File format\"},{\"head\": \"Детализация расчета NPV\", \"head_type\": \"Button\", \"relation\": \"SHOWS_CALCULATION_DETAILS\", \"tail\": \"Calculation details window\", \"tail_type\": \"Window\"},{\"head\": \"Данные для расчета\", \"head_type\": \"Button\", \"relation\": \"SHOWS_CALCULATION_DATA\", \"tail\": \"Calculation data window\", \"tail_type\": \"Window\"},{\"head\": \"Кнопка «Детализация расчета NPV»\", \"head_type\": \"Button\", \"relation\": \"SHOWS_NPV_CALCULATION_DETAILS\", \"tail\": \"NPV calculation details window\", \"tail_type\": \"Window\"}]"
     ]
    },
    {
     "name": "stderr",
     "output_type": "stream",
     "text": [
      " 92%|█████████▏| 56/61 [07:59<01:00, 12.10s/it]"
     ]
    },
    {
     "name": "stdout",
     "output_type": "stream",
     "text": [
      "[{\"head\": \"мероприятие\", \"head_type\": \"Event\", \"relation\": \"IS_RELATED_TO\", \"tail\": \"кнопка Завершить мероприятие\", \"tail_type\": \"Button\"}, {\"head\": \"мероприятие\", \"head_type\": \"Event\", \"relation\": \"HAS_STEP\", \"tail\": \"панель изменения мероприятия\", \"tail_type\": \"Panel\"}, {\"head\": \"мероприятие\", \"head_type\": \"Event\", \"relation\": \"REQUIRES_CONFIRMATION\", \"tail\": \"соответствующее окно\", \"tail_type\": \"Window\"}]"
     ]
    },
    {
     "name": "stderr",
     "output_type": "stream",
     "text": [
      " 93%|█████████▎| 57/61 [08:04<00:40, 10.04s/it]"
     ]
    },
    {
     "name": "stdout",
     "output_type": "stream",
     "text": [
      "[{\"head\": \"бригад\", \"head_type\": \"Person/Group\", \"relation\": \"RELATED_TO\", \"tail\": \"график КРС\", \"tail_type\": \"System\"}, {\"head\": \"график КРС\", \"head_type\": \"System\", \"relation\": \"CONTAINS_INFORMATION_ABOUT\", \"tail\": \"консервация бригад\", \"tail_type\": \"Process\"}]"
     ]
    },
    {
     "name": "stderr",
     "output_type": "stream",
     "text": [
      " 95%|█████████▌| 58/61 [08:08<00:24,  8.21s/it]"
     ]
    },
    {
     "name": "stdout",
     "output_type": "stream",
     "text": [
      "[{\"head\": \"Система\", \"head_type\": \"System\", \"relation\": \"PROVIDES\", \"tail\": \"автоматически рассчитать график движения\", \"tail_type\": \"Function\"},{\"head\": \"Ракета\", \"head_type\": \"Button\", \"relation\": \"TRIGGER\", \"tail\": \"Расчет\", \"tail_type\": \"Calculation\"},{\"head\": \"Управление\", \"head_type\": \"Tab\", \"relation\": \"OPEN\", \"tail\": \"Оптимизатор графика\", \"tail_type\": \"Window\"},{\"head\": \"Оптимизатор графика\", \"head_type\": \"Window\", \"relation\": \"SHOWS\", \"tail\": \"подробная информация о графике движения и настройки\", \"tail_type\": \"Information\"},{\"head\": \"Кнопка «Добавить очередь»\", \"head_type\": \"Button\", \"relation\": \"ADD\", \"tail\": \"новая строка расчета\", \"tail_type\": \"Calculation\"},{\"head\": \"Таблица расчетов\", \"head_type\": \"Table\", \"relation\": \"SHOWS\", \"tail\": \"новая строка расчета\", \"tail_type\": \"Calculation\"},{\"head\": \"Состояние\", \"head_type\": \"Field\", \"relation\": \"CHANGES\", \"tail\": \"Завершен\", \"tail_type\": \"Status\"},{\"head\": \"Алгоритм\", \"head_type\": \"Field\", \"relation\": \"SHOWS\", \"tail\": \"фактический расчет на сервере\", \"tail_type\": \"Calculation\"},{\"head\": \"ФИО пользователя\", \"head_type\": \"Field\", \"relation\": \"SHOWS\", \"tail\": \"инициатор расчета\", \"tail_type\": \"Person\"}]"
     ]
    },
    {
     "name": "stderr",
     "output_type": "stream",
     "text": [
      " 97%|█████████▋| 59/61 [08:17<00:17,  8.66s/it]"
     ]
    },
    {
     "name": "stdout",
     "output_type": "stream",
     "text": [
      "[{\"head\": \"Excel\", \"head_type\": \"Software\", \"relation\": \"RELATED_TO\", \"tail\": \"Report\", \"tail_type\": \"Document\"},{\"head\": \"Excel\", \"head_type\": \"Software\", \"relation\": \"USED_FOR\", \"tail\": \"Creating Report\", \"tail_type\": \"Task\"},{\"head\": \"Button\", \"head_type\": \"UI Element\", \"relation\": \"PART_OF\", \"tail\": \"Excel Interface\", \"tail_type\": \"Interface\"},{\"head\": \"Flag\", \"head_type\": \"UI Element\", \"relation\": \"USED_FOR\", \"tail\": \"Confirming Report Generation\", \"tail_type\": \"Task\"}]"
     ]
    },
    {
     "name": "stderr",
     "output_type": "stream",
     "text": [
      " 98%|█████████▊| 60/61 [08:22<00:07,  7.51s/it]"
     ]
    },
    {
     "name": "stdout",
     "output_type": "stream",
     "text": [
      "[{\"head\": \"выполнение плана\", \"head_type\": \"concept\", \"relation\": \"DISPLAYED_AS\", \"tail\": \"факт/план\", \"tail_type\": \"format\"}, {\"head\": \"выполнение плана\", \"head_type\": \"concept\", \"relation\": \"SHOWS_DETAILS\", \"tail\": \"расчетные данные\", \"tail_type\": \"data\"}, {\"head\": \"выполнение плана\", \"head_type\": \"concept\", \"relation\": \"DISPLAYED_IN\", \"tail\": \"синяя диаграмма\", \"tail_type\": \"graph\"}, {\"head\": \"выполнение плана\", \"head_type\": \"concept\", \"relation\": \"HAS_STATISTICS\", \"tail\": \"таблицы\", \"tail_type\": \"tables\"}, {\"head\": \"таблицы\", \"head_type\": \"concept\", \"relation\": \"SHOWS_DATA\", \"tail\": \"данные по мероприятиям ГТМ\", \"tail_type\": \"data\"}, {\"head\": \"таблицы\", \"head_type\": \"concept\", \"relation\": \"GROUPED_BY\", \"tail\": \"различные группировки данных\", \"tail_type\": \"categories\"}, {\"head\": \"таблицы\", \"head_type\": \"concept\", \"relation\": \"CONTAINS_COLUMN\", \"tail\": \"столбец «Расчет»\", \"tail_type\": \"column\"}, {\"head\": \"факт/план\", \"head_type\": \"format\", \"relation\": \"CALCULATED_AS\", \"tail\": \"расчетные данные\", \"tail_type\": \"data\"}, {\"head\": \"факт/план\", \"head_type\": \"format\", \"relation\": \"COMPARED_TO\", \"tail\": \"план\", \"tail_type\": \"plan\"}]"
     ]
    },
    {
     "name": "stderr",
     "output_type": "stream",
     "text": [
      "100%|██████████| 61/61 [08:32<00:00,  8.40s/it]\n"
     ]
    }
   ],
   "source": [
    "graph_documents = custom_convert_to_graph_documents(llm_transformer, documents)"
   ]
  },
  {
   "cell_type": "code",
   "execution_count": 4,
   "metadata": {},
   "outputs": [
    {
     "name": "stderr",
     "output_type": "stream",
     "text": [
      "C:\\Users\\mecco\\AppData\\Local\\Temp\\ipykernel_22812\\2195666223.py:3: DeprecationWarning: callback_manager is deprecated. Please use callbacks instead.\n",
      "  qa_model = ChatOllama(\n"
     ]
    }
   ],
   "source": [
    "from langchain.chains import GraphCypherQAChain\n",
    "\n",
    "qa_model = ChatOllama(\n",
    "    model=\"llama3.1\",\n",
    "    callback_manager = callback_manager, \n",
    "    temperature=0.0, \n",
    "    # num_predict = 128\n",
    ")\n",
    "\n",
    "chain = GraphCypherQAChain.from_llm(\n",
    "    qa_model, graph=graph, verbose=True, return_intermediate_steps = True,\n",
    ")"
   ]
  },
  {
   "cell_type": "code",
   "execution_count": 5,
   "metadata": {},
   "outputs": [],
   "source": [
    "graph.refresh_schema()"
   ]
  },
  {
   "cell_type": "code",
   "execution_count": 6,
   "metadata": {},
   "outputs": [
    {
     "name": "stdout",
     "output_type": "stream",
     "text": [
      "\n",
      "\n",
      "\u001b[1m> Entering new GraphCypherQAChain chain...\u001b[0m\n",
      "MATCH (b:Brigada) RETURN b"
     ]
    },
    {
     "name": "stderr",
     "output_type": "stream",
     "text": [
      "Received notification from DBMS server: {severity: WARNING} {code: Neo.ClientNotification.Statement.UnknownLabelWarning} {category: UNRECOGNIZED} {title: The provided label is not in the database.} {description: One of the labels in your query is not available in the database, make sure you didn't misspell it or that the label is available when you run this statement in your application (the missing label name is: Brigada)} {position: line: 1, column: 10, offset: 9} for query: 'MATCH (b:Brigada) RETURN b'\n"
     ]
    },
    {
     "name": "stdout",
     "output_type": "stream",
     "text": [
      "Generated Cypher:\n",
      "\u001b[32;1m\u001b[1;3mMATCH (b:Brigada) RETURN b\u001b[0m\n",
      "Full Context:\n",
      "\u001b[32;1m\u001b[1;3m[]\u001b[0m\n",
      "I don't know the answer.\n",
      "\u001b[1m> Finished chain.\u001b[0m\n"
     ]
    },
    {
     "data": {
      "text/plain": [
       "{'query': 'Что такое бригада?\\n',\n",
       " 'result': \"I don't know the answer.\",\n",
       " 'intermediate_steps': [{'query': 'MATCH (b:Brigada) RETURN b'},\n",
       "  {'context': []}]}"
      ]
     },
     "execution_count": 6,
     "metadata": {},
     "output_type": "execute_result"
    }
   ],
   "source": [
    "chain.invoke({\"query\": \"\"\"Что такое бригада?\n",
    "\"\"\"})"
   ]
  },
  {
   "cell_type": "code",
   "execution_count": 25,
   "metadata": {},
   "outputs": [
    {
     "data": {
      "application/vnd.jupyter.widget-view+json": {
       "model_id": "9332bae4fc1d49ee96c0757365e44bfc",
       "version_major": 2,
       "version_minor": 0
      },
      "text/plain": [
       "GraphWidget(layout=Layout(height='750px', width='100%'))"
      ]
     },
     "metadata": {},
     "output_type": "display_data"
    }
   ],
   "source": [
    "\n",
    "driver = GraphDatabase.driver(\n",
    "    uri = os.environ[\"NEO4J_URI\"],\n",
    "    auth = (os.environ[\"NEO4J_USERNAME\"],\n",
    "            os.environ[\"NEO4J_PASSWORD\"]))\n",
    "session = driver.session()\n",
    "\n",
    "result_graph = session.run(\"MATCH (s)-[r:!MENTIONS]->(t) WHERE LOWER(s.id) =~ '.*скважина.*' RETURN s,r,t\").graph()\n",
    "\n",
    "widget = GraphWidget(graph = result_graph)\n",
    "widget.node_label_mapping = 'id'\n",
    "widget"
   ]
  },
  {
   "cell_type": "code",
   "execution_count": 7,
   "metadata": {},
   "outputs": [
    {
     "name": "stderr",
     "output_type": "stream",
     "text": [
      "C:\\Users\\mecco\\AppData\\Local\\Temp\\ipykernel_22812\\1752102283.py:31: DeprecationWarning: callback_manager is deprecated. Please use callbacks instead.\n",
      "  cypher_llm = ChatOllama(\n",
      "C:\\Users\\mecco\\AppData\\Local\\Temp\\ipykernel_22812\\1752102283.py:38: DeprecationWarning: callback_manager is deprecated. Please use callbacks instead.\n",
      "  qa_llm = ChatOllama(\n"
     ]
    }
   ],
   "source": [
    "from langchain.prompts.prompt import PromptTemplate\n",
    "from langchain.chains import GraphCypherQAChain\n",
    "\n",
    "\n",
    "CYPHER_GENERATION_TEMPLATE = \"\"\"Задача:Сгенерируй запрос Cypher к графовой базе данных.\n",
    "Инструкции:\n",
    "Используй в схеме только предоставленные типы отношений и свойства.\n",
    "Не используй другие типы отношений или свойства, которые не предусмотрены.\n",
    "Схема:\n",
    "{schema}\n",
    "Примечание: Не включай в свои ответы никаких объяснений или извинений.\n",
    "Не отвечай на вопросы, в которых может потребоваться что-то еще, кроме построения утверждения на языке Cypher.\n",
    "Не включай никакой текст, кроме сгенерированного утверждения Cypher.\n",
    "Примеры: Вот несколько примеров сгенерированных утверждений Cypher для конкретных вопросов:\n",
    "# Что такое нефть?\n",
    "MATCH (s)-[r:!MENTIONS]->(t) WHERE LOWER(s.id) =~ '.*нефть.*' RETURN s,r,t\n",
    "\n",
    "# Что такое газ?\n",
    "MATCH (s)-[r:!MENTIONS]->(t) WHERE LOWER(s.id) =~ '.*газ.*' RETURN s,r,t\n",
    "\n",
    "# Кто такой оператор?\n",
    "MATCH (s)-[r:!MENTIONS]->(t) WHERE LOWER(s.id) =~ '.*оператор.*' RETURN s,r,t\n",
    "\n",
    "Сам вопрос:\n",
    "{question}\"\"\"\n",
    "\n",
    "CYPHER_GENERATION_PROMPT = PromptTemplate(\n",
    "    input_variables=[\"schema\", \"question\"], template=CYPHER_GENERATION_TEMPLATE\n",
    ")\n",
    "\n",
    "cypher_llm = ChatOllama(\n",
    "    model=\"llama3.1\",\n",
    "    callback_manager = callback_manager, \n",
    "    temperature=0.0, \n",
    "    # num_predict = 128\n",
    ")\n",
    "\n",
    "qa_llm = ChatOllama(\n",
    "    model=\"rusmodel\",\n",
    "    callback_manager = callback_manager, \n",
    "    temperature=0.0, \n",
    "    # num_predict = 128\n",
    ")\n",
    "\n",
    "chain = GraphCypherQAChain.from_llm(\n",
    "    cypher_llm = cypher_llm, \n",
    "    qa_llm = qa_llm,\n",
    "    graph=graph, \n",
    "    verbose=True, \n",
    "    cypher_prompt=CYPHER_GENERATION_PROMPT,\n",
    "    validate_cypher=True,\n",
    ")"
   ]
  },
  {
   "cell_type": "code",
   "execution_count": 8,
   "metadata": {},
   "outputs": [
    {
     "name": "stderr",
     "output_type": "stream",
     "text": [
      "C:\\Users\\mecco\\AppData\\Local\\Temp\\ipykernel_22812\\2514515275.py:1: LangChainDeprecationWarning: The method `Chain.run` was deprecated in langchain 0.1.0 and will be removed in 1.0. Use invoke instead.\n",
      "  chain.run(\"Что такое мероприятия?\")\n"
     ]
    },
    {
     "name": "stdout",
     "output_type": "stream",
     "text": [
      "\n",
      "\n",
      "\u001b[1m> Entering new GraphCypherQAChain chain...\u001b[0m\n",
      "MATCH (s)-[r:!MENTIONS]->(t) WHERE LOWER(s.id) =~ '.*мероприятия.*' RETURN s,r,tGenerated Cypher:\n",
      "\u001b[32;1m\u001b[1;3mMATCH (s)-[r:!MENTIONS]->(t) WHERE LOWER(s.id) =~ '.*мероприятия.*' RETURN s,r,t\u001b[0m\n",
      "Full Context:\n",
      "\u001b[32;1m\u001b[1;3m[{'s': {'id': 'мероприятия'}, 'r': ({'id': 'мероприятия'}, 'REQUIRES_INPUT', {'id': 'контекстное меню добавить ремонт'}), 't': {'id': 'контекстное меню добавить ремонт'}}, {'s': {'id': 'мероприятия'}, 'r': ({'id': 'мероприятия'}, 'HAS_STEP', {'id': 'ГРП'}), 't': {'id': 'ГРП'}}, {'s': {'id': 'мероприятия'}, 'r': ({'id': 'мероприятия'}, 'HAS_PARALLEL_REPAIRS', {'id': 'скважина'}), 't': {'id': 'скважина'}}, {'s': {'id': 'мероприятия'}, 'r': ({'id': 'мероприятия'}, 'HAS_STEP', {'id': 'скважина'}), 't': {'id': 'скважина'}}, {'s': {'id': 'мероприятия'}, 'r': ({'id': 'мероприятия'}, 'REQUIRES_INPUT', {'id': 'панели изменения мероприятия'}), 't': {'id': 'панели изменения мероприятия'}}, {'s': {'id': 'мероприятия'}, 'r': ({'id': 'мероприятия'}, 'EDITED_BY', {'id': 'другой пользователь'}), 't': {'id': 'другой пользователь'}}, {'s': {'id': 'мероприятия'}, 'r': ({'id': 'мероприятия'}, 'BEING_EDITED', {'id': 'другой пользователь'}), 't': {'id': 'другой пользователь'}}, {'s': {'id': 'мероприятия'}, 'r': ({'id': 'мероприятия'}, 'HAS_WORKS', {'id': 'работы в мероприятии'}), 't': {'id': 'работы в мероприятии'}}, {'s': {'id': 'мероприятия'}, 'r': ({'id': 'мероприятия'}, 'IS_PART_OF', {'id': 'таблица кандидатов'}), 't': {'id': 'таблица кандидатов'}}, {'s': {'id': 'мероприятия'}, 'r': ({'id': 'мероприятия'}, 'HAS_HISTORY', {'id': 'история изменений мероприятий'}), 't': {'id': 'история изменений мероприятий'}}]\u001b[0m\n",
      "Мероприятия - это события или действия, которые происходят в контексте Neo4j. Они могут включать в себя различные типы действий, такие как добавление ремонта, изменение шагов, добавление панели изменения мероприятия, добавление работы в мероприятие и т.д.\n",
      "\u001b[1m> Finished chain.\u001b[0m\n"
     ]
    },
    {
     "data": {
      "text/plain": [
       "'Мероприятия - это события или действия, которые происходят в контексте Neo4j. Они могут включать в себя различные типы действий, такие как добавление ремонта, изменение шагов, добавление панели изменения мероприятия, добавление работы в мероприятие и т.д.'"
      ]
     },
     "execution_count": 8,
     "metadata": {},
     "output_type": "execute_result"
    }
   ],
   "source": [
    "chain.run(\"Что такое мероприятия?\")"
   ]
  }
 ],
 "metadata": {
  "kernelspec": {
   "display_name": "new_env",
   "language": "python",
   "name": "python3"
  },
  "language_info": {
   "codemirror_mode": {
    "name": "ipython",
    "version": 3
   },
   "file_extension": ".py",
   "mimetype": "text/x-python",
   "name": "python",
   "nbconvert_exporter": "python",
   "pygments_lexer": "ipython3",
   "version": "3.11.4"
  }
 },
 "nbformat": 4,
 "nbformat_minor": 2
}
